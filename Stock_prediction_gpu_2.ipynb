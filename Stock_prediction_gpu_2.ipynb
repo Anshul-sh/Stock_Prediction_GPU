{
 "cells": [
  {
   "cell_type": "code",
   "execution_count": 1,
   "source": [
    "import os\r\n",
    "os.environ[\"CUDA_DEVICE_ORDER\"]=\"PCI_BUS_ID\";\r\n",
    " \r\n",
    "# The GPU id to use, usually either \"0\" or \"1\";\r\n",
    "os.environ[\"CUDA_VISIBLE_DEVICES\"]=\"0\";  \r\n",
    "\r\n",
    "import requests\r\n",
    "import pandas as pd\r\n",
    "import json\r\n",
    "import numpy as np\r\n",
    "import matplotlib.pyplot as plt\r\n",
    "from sklearn.preprocessing import MinMaxScaler\r\n",
    "from keras.models import Sequential\r\n",
    "from keras.layers import Dense\r\n",
    "from keras.layers import LSTM\r\n",
    "from keras.layers import Dropout\r\n",
    "from keras.layers import Conv1D\r\n",
    "import keras\r\n",
    "import tensorflow as tf\r\n",
    "def Percentage_Accuracy(y_true, y_pred):\r\n",
    "    diff = keras.backend.abs(y_true-y_pred)\r\n",
    "    correct = keras.backend.less(diff,0.05) \r\n",
    "    return keras.backend.mean(correct) "
   ],
   "outputs": [
    {
     "output_type": "stream",
     "name": "stderr",
     "text": [
      "Using TensorFlow backend.\n",
      "A:\\Anaconda\\envs\\ML_GPU\\lib\\site-packages\\tensorflow\\python\\framework\\dtypes.py:523: FutureWarning: Passing (type, 1) or '1type' as a synonym of type is deprecated; in a future version of numpy, it will be understood as (type, (1,)) / '(1,)type'.\n",
      "  _np_qint8 = np.dtype([(\"qint8\", np.int8, 1)])\n",
      "A:\\Anaconda\\envs\\ML_GPU\\lib\\site-packages\\tensorflow\\python\\framework\\dtypes.py:524: FutureWarning: Passing (type, 1) or '1type' as a synonym of type is deprecated; in a future version of numpy, it will be understood as (type, (1,)) / '(1,)type'.\n",
      "  _np_quint8 = np.dtype([(\"quint8\", np.uint8, 1)])\n",
      "A:\\Anaconda\\envs\\ML_GPU\\lib\\site-packages\\tensorflow\\python\\framework\\dtypes.py:525: FutureWarning: Passing (type, 1) or '1type' as a synonym of type is deprecated; in a future version of numpy, it will be understood as (type, (1,)) / '(1,)type'.\n",
      "  _np_qint16 = np.dtype([(\"qint16\", np.int16, 1)])\n",
      "A:\\Anaconda\\envs\\ML_GPU\\lib\\site-packages\\tensorflow\\python\\framework\\dtypes.py:526: FutureWarning: Passing (type, 1) or '1type' as a synonym of type is deprecated; in a future version of numpy, it will be understood as (type, (1,)) / '(1,)type'.\n",
      "  _np_quint16 = np.dtype([(\"quint16\", np.uint16, 1)])\n",
      "A:\\Anaconda\\envs\\ML_GPU\\lib\\site-packages\\tensorflow\\python\\framework\\dtypes.py:527: FutureWarning: Passing (type, 1) or '1type' as a synonym of type is deprecated; in a future version of numpy, it will be understood as (type, (1,)) / '(1,)type'.\n",
      "  _np_qint32 = np.dtype([(\"qint32\", np.int32, 1)])\n",
      "A:\\Anaconda\\envs\\ML_GPU\\lib\\site-packages\\tensorflow\\python\\framework\\dtypes.py:532: FutureWarning: Passing (type, 1) or '1type' as a synonym of type is deprecated; in a future version of numpy, it will be understood as (type, (1,)) / '(1,)type'.\n",
      "  np_resource = np.dtype([(\"resource\", np.ubyte, 1)])\n"
     ]
    }
   ],
   "metadata": {}
  },
  {
   "cell_type": "code",
   "execution_count": 2,
   "source": [
    "keras.backend.device_lib.list_local_devices()"
   ],
   "outputs": [
    {
     "output_type": "execute_result",
     "data": {
      "text/plain": [
       "[name: \"/device:CPU:0\"\n",
       " device_type: \"CPU\"\n",
       " memory_limit: 268435456\n",
       " locality {\n",
       " }\n",
       " incarnation: 7389298693656916835,\n",
       " name: \"/device:GPU:0\"\n",
       " device_type: \"GPU\"\n",
       " memory_limit: 4999020544\n",
       " locality {\n",
       "   bus_id: 1\n",
       "   links {\n",
       "   }\n",
       " }\n",
       " incarnation: 17515246441756572034\n",
       " physical_device_desc: \"device: 0, name: GeForce RTX 2060, pci bus id: 0000:01:00.0, compute capability: 7.5\"]"
      ]
     },
     "metadata": {},
     "execution_count": 2
    }
   ],
   "metadata": {}
  },
  {
   "cell_type": "code",
   "execution_count": 2,
   "source": [
    "url = \"https://www.alphavantage.co/query?function=TIME_SERIES_DAILY_ADJUSTED&symbol=IBM&outputsize=full&apikey=EQ50I9Q6ZC3B43AX\"\r\n",
    "r = requests.get(url)\r\n",
    "data = r.json()"
   ],
   "outputs": [],
   "metadata": {
    "tags": [
     "outputPrepend"
    ]
   }
  },
  {
   "cell_type": "code",
   "execution_count": 3,
   "source": [
    "df = pd.DataFrame.from_dict(list(data.values())[1],orient='index').reset_index()\r\n",
    "# df = df.rename(columns={'index':'time' ,'1. open': 'open', '2. high':'high' , '3. low' : 'low', '4. close': 'close', '5. volume': 'volume'})\r\n",
    "df = df.rename(columns={'index':'time' ,'1. open': 'open', '2. high':'high' , '3. low' : 'low', '4. close': 'close','5. adjusted close': 'adjclose', '6. volume': 'volume'})\r\n",
    "split_size = int(len(df)-400)\r\n",
    "df['time'] =pd.to_datetime(df.time)\r\n",
    "df=df.sort_values(by='time').reset_index()\r\n",
    "df"
   ],
   "outputs": [
    {
     "output_type": "execute_result",
     "data": {
      "text/html": [
       "<div>\n",
       "<style scoped>\n",
       "    .dataframe tbody tr th:only-of-type {\n",
       "        vertical-align: middle;\n",
       "    }\n",
       "\n",
       "    .dataframe tbody tr th {\n",
       "        vertical-align: top;\n",
       "    }\n",
       "\n",
       "    .dataframe thead th {\n",
       "        text-align: right;\n",
       "    }\n",
       "</style>\n",
       "<table border=\"1\" class=\"dataframe\">\n",
       "  <thead>\n",
       "    <tr style=\"text-align: right;\">\n",
       "      <th></th>\n",
       "      <th>index</th>\n",
       "      <th>time</th>\n",
       "      <th>open</th>\n",
       "      <th>high</th>\n",
       "      <th>low</th>\n",
       "      <th>close</th>\n",
       "      <th>adjclose</th>\n",
       "      <th>volume</th>\n",
       "      <th>7. dividend amount</th>\n",
       "      <th>8. split coefficient</th>\n",
       "    </tr>\n",
       "  </thead>\n",
       "  <tbody>\n",
       "    <tr>\n",
       "      <th>0</th>\n",
       "      <td>5469</td>\n",
       "      <td>1999-11-01</td>\n",
       "      <td>98.5</td>\n",
       "      <td>98.81</td>\n",
       "      <td>96.37</td>\n",
       "      <td>96.75</td>\n",
       "      <td>60.047457645</td>\n",
       "      <td>9551800</td>\n",
       "      <td>0.0000</td>\n",
       "      <td>1.0</td>\n",
       "    </tr>\n",
       "    <tr>\n",
       "      <th>1</th>\n",
       "      <td>5468</td>\n",
       "      <td>1999-11-02</td>\n",
       "      <td>96.75</td>\n",
       "      <td>96.81</td>\n",
       "      <td>93.69</td>\n",
       "      <td>94.81</td>\n",
       "      <td>58.8434052643</td>\n",
       "      <td>11105400</td>\n",
       "      <td>0.0000</td>\n",
       "      <td>1.0</td>\n",
       "    </tr>\n",
       "    <tr>\n",
       "      <th>2</th>\n",
       "      <td>5467</td>\n",
       "      <td>1999-11-03</td>\n",
       "      <td>95.87</td>\n",
       "      <td>95.94</td>\n",
       "      <td>93.5</td>\n",
       "      <td>94.37</td>\n",
       "      <td>58.5703212192</td>\n",
       "      <td>10369100</td>\n",
       "      <td>0.0000</td>\n",
       "      <td>1.0</td>\n",
       "    </tr>\n",
       "    <tr>\n",
       "      <th>3</th>\n",
       "      <td>5466</td>\n",
       "      <td>1999-11-04</td>\n",
       "      <td>94.44</td>\n",
       "      <td>94.44</td>\n",
       "      <td>90.0</td>\n",
       "      <td>91.56</td>\n",
       "      <td>56.8263072038</td>\n",
       "      <td>16697600</td>\n",
       "      <td>0.0000</td>\n",
       "      <td>1.0</td>\n",
       "    </tr>\n",
       "    <tr>\n",
       "      <th>4</th>\n",
       "      <td>5465</td>\n",
       "      <td>1999-11-05</td>\n",
       "      <td>92.75</td>\n",
       "      <td>92.94</td>\n",
       "      <td>90.19</td>\n",
       "      <td>90.25</td>\n",
       "      <td>56.0132615241</td>\n",
       "      <td>13737600</td>\n",
       "      <td>0.0000</td>\n",
       "      <td>1.0</td>\n",
       "    </tr>\n",
       "    <tr>\n",
       "      <th>...</th>\n",
       "      <td>...</td>\n",
       "      <td>...</td>\n",
       "      <td>...</td>\n",
       "      <td>...</td>\n",
       "      <td>...</td>\n",
       "      <td>...</td>\n",
       "      <td>...</td>\n",
       "      <td>...</td>\n",
       "      <td>...</td>\n",
       "      <td>...</td>\n",
       "    </tr>\n",
       "    <tr>\n",
       "      <th>5465</th>\n",
       "      <td>4</td>\n",
       "      <td>2021-07-22</td>\n",
       "      <td>141.66</td>\n",
       "      <td>141.81</td>\n",
       "      <td>140.41</td>\n",
       "      <td>140.71</td>\n",
       "      <td>140.71</td>\n",
       "      <td>3314153</td>\n",
       "      <td>0.0000</td>\n",
       "      <td>1.0</td>\n",
       "    </tr>\n",
       "    <tr>\n",
       "      <th>5466</th>\n",
       "      <td>3</td>\n",
       "      <td>2021-07-23</td>\n",
       "      <td>140.96</td>\n",
       "      <td>141.7</td>\n",
       "      <td>140.33</td>\n",
       "      <td>141.34</td>\n",
       "      <td>141.34</td>\n",
       "      <td>4474157</td>\n",
       "      <td>0.0000</td>\n",
       "      <td>1.0</td>\n",
       "    </tr>\n",
       "    <tr>\n",
       "      <th>5467</th>\n",
       "      <td>2</td>\n",
       "      <td>2021-07-26</td>\n",
       "      <td>141.39</td>\n",
       "      <td>143.0</td>\n",
       "      <td>141.13</td>\n",
       "      <td>142.77</td>\n",
       "      <td>142.77</td>\n",
       "      <td>4246266</td>\n",
       "      <td>0.0000</td>\n",
       "      <td>1.0</td>\n",
       "    </tr>\n",
       "    <tr>\n",
       "      <th>5468</th>\n",
       "      <td>1</td>\n",
       "      <td>2021-07-27</td>\n",
       "      <td>142.53</td>\n",
       "      <td>143.64</td>\n",
       "      <td>141.6</td>\n",
       "      <td>142.75</td>\n",
       "      <td>142.75</td>\n",
       "      <td>3137027</td>\n",
       "      <td>0.0000</td>\n",
       "      <td>1.0</td>\n",
       "    </tr>\n",
       "    <tr>\n",
       "      <th>5469</th>\n",
       "      <td>0</td>\n",
       "      <td>2021-07-28</td>\n",
       "      <td>143.01</td>\n",
       "      <td>143.1</td>\n",
       "      <td>141.64</td>\n",
       "      <td>141.77</td>\n",
       "      <td>141.77</td>\n",
       "      <td>2544099</td>\n",
       "      <td>0.0000</td>\n",
       "      <td>1.0</td>\n",
       "    </tr>\n",
       "  </tbody>\n",
       "</table>\n",
       "<p>5470 rows × 10 columns</p>\n",
       "</div>"
      ],
      "text/plain": [
       "      index       time    open    high     low   close       adjclose  \\\n",
       "0      5469 1999-11-01    98.5   98.81   96.37   96.75   60.047457645   \n",
       "1      5468 1999-11-02   96.75   96.81   93.69   94.81  58.8434052643   \n",
       "2      5467 1999-11-03   95.87   95.94    93.5   94.37  58.5703212192   \n",
       "3      5466 1999-11-04   94.44   94.44    90.0   91.56  56.8263072038   \n",
       "4      5465 1999-11-05   92.75   92.94   90.19   90.25  56.0132615241   \n",
       "...     ...        ...     ...     ...     ...     ...            ...   \n",
       "5465      4 2021-07-22  141.66  141.81  140.41  140.71         140.71   \n",
       "5466      3 2021-07-23  140.96   141.7  140.33  141.34         141.34   \n",
       "5467      2 2021-07-26  141.39   143.0  141.13  142.77         142.77   \n",
       "5468      1 2021-07-27  142.53  143.64   141.6  142.75         142.75   \n",
       "5469      0 2021-07-28  143.01   143.1  141.64  141.77         141.77   \n",
       "\n",
       "        volume 7. dividend amount 8. split coefficient  \n",
       "0      9551800             0.0000                  1.0  \n",
       "1     11105400             0.0000                  1.0  \n",
       "2     10369100             0.0000                  1.0  \n",
       "3     16697600             0.0000                  1.0  \n",
       "4     13737600             0.0000                  1.0  \n",
       "...        ...                ...                  ...  \n",
       "5465   3314153             0.0000                  1.0  \n",
       "5466   4474157             0.0000                  1.0  \n",
       "5467   4246266             0.0000                  1.0  \n",
       "5468   3137027             0.0000                  1.0  \n",
       "5469   2544099             0.0000                  1.0  \n",
       "\n",
       "[5470 rows x 10 columns]"
      ]
     },
     "metadata": {},
     "execution_count": 3
    }
   ],
   "metadata": {}
  },
  {
   "cell_type": "code",
   "execution_count": 25,
   "source": [
    "def set_maker(arr,sc):\r\n",
    "    scaled_set = sc.transform(arr)# Creating a data structure with 60 time-steps and 1 output\r\n",
    "    X = []\r\n",
    "    y = []\r\n",
    "    for i in range(30, len(arr)):\r\n",
    "        X.append(scaled_set[i-30:i, 0])\r\n",
    "        y.append(scaled_set[i, 0])\r\n",
    "    X, y = np.array(X), np.array(y)\r\n",
    "    X = np.reshape(X, (X.shape[0], X.shape[1], 1))\r\n",
    "    print(X.shape)\r\n",
    "    print(y.shape)\r\n",
    "    return X,y"
   ],
   "outputs": [],
   "metadata": {}
  },
  {
   "cell_type": "code",
   "execution_count": 26,
   "source": [
    "# training_set_open = df.iloc[:int(len(df)*0.7), 1:2].values\r\n",
    "# test_set_open = df.iloc[int(len(df)*0.7):, 1:2].values\r\n",
    "# training_set_close = df.iloc[:int(len(df)*0.7), 4:5].values\r\n",
    "# test_set_close = df.iloc[int(len(df)*0.7):, 4:5].values\r\n",
    "training_set_open = df.iloc[:split_size, 1:2].values\r\n",
    "test_set_open = df.iloc[split_size:, 1:2].values\r\n",
    "\r\n",
    "training_set_high = df.iloc[:split_size, 2:3].values\r\n",
    "test_set_high = df.iloc[split_size:, 2:3].values\r\n",
    "\r\n",
    "training_set_low = df.iloc[:split_size, 3:4].values\r\n",
    "test_set_low = df.iloc[split_size:, 3:4].values\r\n",
    "\r\n",
    "training_set_close = df.iloc[:split_size, 4:5].values\r\n",
    "test_set_close = df.iloc[split_size:, 4:5].values\r\n",
    "\r\n",
    "training_set_vol = df.iloc[:split_size, 5:6].values\r\n",
    "test_set_vol = df.iloc[split_size:, 5:6].values"
   ],
   "outputs": [],
   "metadata": {}
  },
  {
   "cell_type": "code",
   "execution_count": 27,
   "source": [
    "sc_open = MinMaxScaler(feature_range = (-1, 1))\r\n",
    "sc_close = MinMaxScaler(feature_range = (-1, 1))\r\n",
    "sc_high = MinMaxScaler(feature_range = (-1, 1))\r\n",
    "sc_vol = MinMaxScaler(feature_range = (-1, 1))\r\n",
    "sc_low = MinMaxScaler(feature_range = (-1, 1))\r\n",
    "\r\n",
    "sc_open.fit(training_set_open)\r\n",
    "sc_high.fit(training_set_high)\r\n",
    "sc_low.fit(training_set_low)\r\n",
    "sc_vol.fit(training_set_vol)\r\n",
    "sc_close.fit(training_set_close)\r\n",
    "\r\n",
    "open_x,close_y = set_maker(training_set_open,sc_open)\r\n",
    "high_x,close_y = set_maker(training_set_high,sc_high)\r\n",
    "low_x,close_y = set_maker(training_set_low,sc_low)\r\n",
    "vol_x,close_y = set_maker(training_set_vol,sc_vol)\r\n",
    "close_x,close_y = set_maker(training_set_close,sc_close)\r\n",
    "\r\n",
    "train_x = np.concatenate((open_x,high_x,low_x,vol_x,close_x),axis=2)\r\n",
    "\r\n",
    "test_open_x,test_close_y = set_maker(test_set_open,sc_open)\r\n",
    "test_high_x,test_close_y = set_maker(test_set_high,sc_high)\r\n",
    "test_low_x,test_close_y = set_maker(test_set_low,sc_low)\r\n",
    "test_vol_x,test_close_y = set_maker(test_set_vol,sc_close)\r\n",
    "test_close_x,test_close_y = set_maker(test_set_close,sc_close)\r\n"
   ],
   "outputs": [
    {
     "output_type": "stream",
     "name": "stdout",
     "text": [
      "(5040, 30, 1)\n",
      "(5040,)\n",
      "(5040, 30, 1)\n",
      "(5040,)\n",
      "(5040, 30, 1)\n",
      "(5040,)\n",
      "(5040, 30, 1)\n",
      "(5040,)\n",
      "(5040, 30, 1)\n",
      "(5040,)\n",
      "(370, 30, 1)\n",
      "(370,)\n",
      "(370, 30, 1)\n",
      "(370,)\n",
      "(370, 30, 1)\n",
      "(370,)\n",
      "(370, 30, 1)\n",
      "(370,)\n",
      "(370, 30, 1)\n",
      "(370,)\n"
     ]
    }
   ],
   "metadata": {}
  },
  {
   "cell_type": "code",
   "execution_count": 38,
   "source": [
    "input = tf.TensorArray(tf.float32, size = 0, dynamic_size=True, clear_after_read=False)\r\n",
    "for i in range(train_x.shape[2]):\r\n",
    "    input = input.write(i,keras.Input(shape = (train_x.shape[1],)))"
   ],
   "outputs": [],
   "metadata": {}
  },
  {
   "cell_type": "code",
   "execution_count": 30,
   "source": [
    "\r\n",
    "\r\n",
    "\r\n",
    "\r\n",
    "model = Sequential()#Adding the first LSTM layer and some Dropout regularisation\r\n",
    "model.add(LSTM(units = 30, return_sequences = True, ))\r\n",
    "model.add(Conv1D(30,16,activation='relu'))\r\n",
    "model.add(LSTM(units = 15, return_sequences = True))\r\n",
    "model.add(Conv1D(15,8,activation='relu'))\r\n",
    "model.add(LSTM(units = 7))\r\n",
    "model.add(Dropout(0.2))# Adding the output layer\r\n",
    "model.add(Dense(units = 1))\r\n",
    "\r\n",
    "opt = keras.optimizers.Adamax()\r\n",
    "lossfunction = keras.losses.mse\r\n",
    "# Compiling the RNN\r\n",
    "model.compile(optimizer = opt, loss = lossfunction, metrics=[Percentage_Accuracy],)"
   ],
   "outputs": [],
   "metadata": {}
  },
  {
   "cell_type": "code",
   "execution_count": 31,
   "source": [
    "model.summary()"
   ],
   "outputs": [
    {
     "output_type": "stream",
     "name": "stdout",
     "text": [
      "_________________________________________________________________\n",
      "Layer (type)                 Output Shape              Param #   \n",
      "=================================================================\n",
      "lstm_7 (LSTM)                (None, 120, 120)          60480     \n",
      "_________________________________________________________________\n",
      "conv1d_5 (Conv1D)            (None, 60, 120)           878520    \n",
      "_________________________________________________________________\n",
      "lstm_8 (LSTM)                (None, 60, 60)            43440     \n",
      "_________________________________________________________________\n",
      "conv1d_6 (Conv1D)            (None, 30, 60)            111660    \n",
      "_________________________________________________________________\n",
      "lstm_9 (LSTM)                (None, 30)                10920     \n",
      "_________________________________________________________________\n",
      "dropout_3 (Dropout)          (None, 30)                0         \n",
      "_________________________________________________________________\n",
      "dense_3 (Dense)              (None, 1)                 31        \n",
      "=================================================================\n",
      "Total params: 1,105,051\n",
      "Trainable params: 1,105,051\n",
      "Non-trainable params: 0\n",
      "_________________________________________________________________\n"
     ]
    }
   ],
   "metadata": {}
  },
  {
   "cell_type": "code",
   "execution_count": 32,
   "source": [
    "# Fitting the RNN to the Training set\n",
    "with tf.device(\"/device:GPU:0\"):\n",
    "    model.fit(train_x, close_y, epochs = 30, batch_size = 60)"
   ],
   "outputs": [
    {
     "output_type": "stream",
     "name": "stdout",
     "text": [
      "Epoch 1/30\n",
      "4930/4930 [==============================] - 19s 4ms/step - loss: 0.0305 - Percentage_Accuracy: 0.2862\n",
      "Epoch 2/30\n",
      "4930/4930 [==============================] - 17s 4ms/step - loss: 0.0128 - Percentage_Accuracy: 0.3700\n",
      "Epoch 3/30\n",
      "4930/4930 [==============================] - 18s 4ms/step - loss: 0.0101 - Percentage_Accuracy: 0.4063\n",
      "Epoch 4/30\n",
      "4930/4930 [==============================] - 19s 4ms/step - loss: 0.0091 - Percentage_Accuracy: 0.4394\n",
      "Epoch 5/30\n",
      "4930/4930 [==============================] - 19s 4ms/step - loss: 0.0079 - Percentage_Accuracy: 0.4692\n",
      "Epoch 6/30\n",
      "4930/4930 [==============================] - 20s 4ms/step - loss: 0.0075 - Percentage_Accuracy: 0.4744\n",
      "Epoch 7/30\n",
      "4930/4930 [==============================] - 20s 4ms/step - loss: 0.0065 - Percentage_Accuracy: 0.5195\n",
      "Epoch 8/30\n",
      "4930/4930 [==============================] - 20s 4ms/step - loss: 0.0063 - Percentage_Accuracy: 0.5219\n",
      "Epoch 9/30\n",
      "4930/4930 [==============================] - 25s 5ms/step - loss: 0.0066 - Percentage_Accuracy: 0.5105\n",
      "Epoch 10/30\n",
      "4930/4930 [==============================] - 19s 4ms/step - loss: 0.0061 - Percentage_Accuracy: 0.5296\n",
      "Epoch 11/30\n",
      "4930/4930 [==============================] - 19s 4ms/step - loss: 0.0059 - Percentage_Accuracy: 0.5369\n",
      "Epoch 12/30\n",
      "4930/4930 [==============================] - 19s 4ms/step - loss: 0.0052 - Percentage_Accuracy: 0.5600\n",
      "Epoch 13/30\n",
      "4930/4930 [==============================] - 19s 4ms/step - loss: 0.0054 - Percentage_Accuracy: 0.5653\n",
      "Epoch 14/30\n",
      "4930/4930 [==============================] - 19s 4ms/step - loss: 0.0048 - Percentage_Accuracy: 0.5783\n",
      "Epoch 15/30\n",
      "4930/4930 [==============================] - 19s 4ms/step - loss: 0.0051 - Percentage_Accuracy: 0.5649\n",
      "Epoch 16/30\n",
      "4930/4930 [==============================] - 19s 4ms/step - loss: 0.0047 - Percentage_Accuracy: 0.5846\n",
      "Epoch 17/30\n",
      "4930/4930 [==============================] - 19s 4ms/step - loss: 0.0048 - Percentage_Accuracy: 0.5777\n",
      "Epoch 18/30\n",
      "4930/4930 [==============================] - 19s 4ms/step - loss: 0.0048 - Percentage_Accuracy: 0.5755\n",
      "Epoch 19/30\n",
      "4930/4930 [==============================] - 20s 4ms/step - loss: 0.0046 - Percentage_Accuracy: 0.5876\n",
      "Epoch 20/30\n",
      "4930/4930 [==============================] - 21s 4ms/step - loss: 0.0047 - Percentage_Accuracy: 0.5744\n",
      "Epoch 21/30\n",
      "4930/4930 [==============================] - 20s 4ms/step - loss: 0.0041 - Percentage_Accuracy: 0.6128\n",
      "Epoch 22/30\n",
      "4930/4930 [==============================] - 20s 4ms/step - loss: 0.0047 - Percentage_Accuracy: 0.5939\n",
      "Epoch 23/30\n",
      "4930/4930 [==============================] - 21s 4ms/step - loss: 0.0041 - Percentage_Accuracy: 0.6067\n",
      "Epoch 24/30\n",
      "4930/4930 [==============================] - 21s 4ms/step - loss: 0.0042 - Percentage_Accuracy: 0.6089\n",
      "Epoch 25/30\n",
      "4930/4930 [==============================] - 21s 4ms/step - loss: 0.0041 - Percentage_Accuracy: 0.6134\n",
      "Epoch 26/30\n",
      "4930/4930 [==============================] - 21s 4ms/step - loss: 0.0041 - Percentage_Accuracy: 0.6233\n",
      "Epoch 27/30\n",
      "4930/4930 [==============================] - 21s 4ms/step - loss: 0.0038 - Percentage_Accuracy: 0.6371\n",
      "Epoch 28/30\n",
      "4930/4930 [==============================] - 22s 4ms/step - loss: 0.0037 - Percentage_Accuracy: 0.6280\n",
      "Epoch 29/30\n",
      "4930/4930 [==============================] - 21s 4ms/step - loss: 0.0039 - Percentage_Accuracy: 0.6318\n",
      "Epoch 30/30\n",
      "4930/4930 [==============================] - 21s 4ms/step - loss: 0.0038 - Percentage_Accuracy: 0.6345\n"
     ]
    }
   ],
   "metadata": {}
  },
  {
   "cell_type": "code",
   "execution_count": 33,
   "source": [
    "predicted_stock_price = model.predict(test_x)\n",
    "predicted_stock_price = sc_close.inverse_transform(predicted_stock_price)"
   ],
   "outputs": [],
   "metadata": {}
  },
  {
   "cell_type": "code",
   "execution_count": 34,
   "source": [
    "predicted_stock_price.shape"
   ],
   "outputs": [
    {
     "output_type": "execute_result",
     "data": {
      "text/plain": [
       "(280, 1)"
      ]
     },
     "metadata": {},
     "execution_count": 34
    }
   ],
   "metadata": {}
  },
  {
   "cell_type": "code",
   "execution_count": 35,
   "source": [
    "vector = np.vectorize(np.float)\n",
    "t_pred = np.reshape(predicted_stock_price, (predicted_stock_price.shape[0], ))\n",
    "acc_val = vector(df.loc[(split_size+120):, 'close'].values)\n",
    "time = df.loc[(split_size+120):, 'time'].values\n",
    "plt.plot(time,acc_val, color = 'red', label = 'Real Stock Price')\n",
    "plt.plot(time,t_pred, color = 'blue', label = 'Predicted Stock Price')\n",
    "plt.gcf().autofmt_xdate()\n",
    "plt.title('Stock Price Prediction')\n",
    "plt.xlabel('Time')\n",
    "plt.ylabel('Stock Price')\n",
    "plt.legend()\n",
    "plt.show()"
   ],
   "outputs": [
    {
     "output_type": "display_data",
     "data": {
      "image/png": "[encoded data removed]",
      "image/svg+xml": "<?xml version=\"1.0\" encoding=\"utf-8\" standalone=\"no\"?>\r\n<!DOCTYPE svg PUBLIC \"-//W3C//DTD SVG 1.1//EN\"\r\n  \"http://www.w3.org/Graphics/SVG/1.1/DTD/svg11.dtd\">\r\n<!-- Created with matplotlib (https://matplotlib.org/) -->\r\n<svg height=\"275.309158pt\" version=\"1.1\" viewBox=\"0 0 389.284646 275.309158\" width=\"389.284646pt\" xmlns=\"http://www.w3.org/2000/svg\" xmlns:xlink=\"http://www.w3.org/1999/xlink\">\r\n <metadata>\r\n  <rdf:RDF xmlns:cc=\"http://creativecommons.org/ns#\" xmlns:dc=\"http://purl.org/dc/elements/1.1/\" xmlns:rdf=\"http://www.w3.org/1999/02/22-rdf-syntax-ns#\">\r\n   <cc:Work>\r\n    <dc:type rdf:resource=\"http://purl.org/dc/dcmitype/StillImage\"/>\r\n    <dc:date>2021-06-29T19:47:10.502524</dc:date>\r\n    <dc:format>image/svg+xml</dc:format>\r\n    <dc:creator>\r\n     <cc:Agent>\r\n      <dc:title>Matplotlib v3.3.4, https://matplotlib.org/</dc:title>\r\n     </cc:Agent>\r\n    </dc:creator>\r\n   </cc:Work>\r\n  </rdf:RDF>\r\n </metadata>\r\n <defs>\r\n  <style type=\"text/css\">*{stroke-linecap:butt;stroke-linejoin:round;}</style>\r\n </defs>\r\n <g id=\"figure_1\">\r\n  <g id=\"patch_1\">\r\n   <path d=\"M 0 275.309158 \r\nL 389.284646 275.309158 \r\nL 389.284646 0 \r\nL 0 0 \r\nz\r\n\" style=\"fill:none;\"/>\r\n  </g>\r\n  <g id=\"axes_1\">\r\n   <g id=\"patch_2\">\r\n    <path d=\"M 47.284646 218.158125 \r\nL 382.084646 218.158125 \r\nL 382.084646 22.318125 \r\nL 47.284646 22.318125 \r\nz\r\n\" style=\"fill:#ffffff;\"/>\r\n   </g>\r\n   <g id=\"matplotlib.axis_1\">\r\n    <g id=\"xtick_1\">\r\n     <g id=\"line2d_1\">\r\n      <defs>\r\n       <path d=\"M 0 0 \r\nL 0 3.5 \r\n\" id=\"m78ea98f922\" style=\"stroke:#000000;stroke-width:0.8;\"/>\r\n      </defs>\r\n      <g>\r\n       <use style=\"stroke:#000000;stroke-width:0.8;\" x=\"48.22404\" xlink:href=\"#m78ea98f922\" y=\"218.158125\"/>\r\n      </g>\r\n     </g>\r\n     <g id=\"text_1\">\r\n      <!-- 2020-05 -->\r\n      <g transform=\"translate(10.999219 252.629971)rotate(-30)scale(0.1 -0.1)\">\r\n       <defs>\r\n        <path d=\"M 19.1875 8.296875 \r\nL 53.609375 8.296875 \r\nL 53.609375 0 \r\nL 7.328125 0 \r\nL 7.328125 8.296875 \r\nQ 12.9375 14.109375 22.625 23.890625 \r\nQ 32.328125 33.6875 34.8125 36.53125 \r\nQ 39.546875 41.84375 41.421875 45.53125 \r\nQ 43.3125 49.21875 43.3125 52.78125 \r\nQ 43.3125 58.59375 39.234375 62.25 \r\nQ 35.15625 65.921875 28.609375 65.921875 \r\nQ 23.96875 65.921875 18.8125 64.3125 \r\nQ 13.671875 62.703125 7.8125 59.421875 \r\nL 7.8125 69.390625 \r\nQ 13.765625 71.78125 18.9375 73 \r\nQ 24.125 74.21875 28.421875 74.21875 \r\nQ 39.75 74.21875 46.484375 68.546875 \r\nQ 53.21875 62.890625 53.21875 53.421875 \r\nQ 53.21875 48.921875 51.53125 44.890625 \r\nQ 49.859375 40.875 45.40625 35.40625 \r\nQ 44.1875 33.984375 37.640625 27.21875 \r\nQ 31.109375 20.453125 19.1875 8.296875 \r\nz\r\n\" id=\"DejaVuSans-50\"/>\r\n        <path d=\"M 31.78125 66.40625 \r\nQ 24.171875 66.40625 20.328125 58.90625 \r\nQ 16.5 51.421875 16.5 36.375 \r\nQ 16.5 21.390625 20.328125 13.890625 \r\nQ 24.171875 6.390625 31.78125 6.390625 \r\nQ 39.453125 6.390625 43.28125 13.890625 \r\nQ 47.125 21.390625 47.125 36.375 \r\nQ 47.125 51.421875 43.28125 58.90625 \r\nQ 39.453125 66.40625 31.78125 66.40625 \r\nz\r\nM 31.78125 74.21875 \r\nQ 44.046875 74.21875 50.515625 64.515625 \r\nQ 56.984375 54.828125 56.984375 36.375 \r\nQ 56.984375 17.96875 50.515625 8.265625 \r\nQ 44.046875 -1.421875 31.78125 -1.421875 \r\nQ 19.53125 -1.421875 13.0625 8.265625 \r\nQ 6.59375 17.96875 6.59375 36.375 \r\nQ 6.59375 54.828125 13.0625 64.515625 \r\nQ 19.53125 74.21875 31.78125 74.21875 \r\nz\r\n\" id=\"DejaVuSans-48\"/>\r\n        <path d=\"M 4.890625 31.390625 \r\nL 31.203125 31.390625 \r\nL 31.203125 23.390625 \r\nL 4.890625 23.390625 \r\nz\r\n\" id=\"DejaVuSans-45\"/>\r\n        <path d=\"M 10.796875 72.90625 \r\nL 49.515625 72.90625 \r\nL 49.515625 64.59375 \r\nL 19.828125 64.59375 \r\nL 19.828125 46.734375 \r\nQ 21.96875 47.46875 24.109375 47.828125 \r\nQ 26.265625 48.1875 28.421875 48.1875 \r\nQ 40.625 48.1875 47.75 41.5 \r\nQ 54.890625 34.8125 54.890625 23.390625 \r\nQ 54.890625 11.625 47.5625 5.09375 \r\nQ 40.234375 -1.421875 26.90625 -1.421875 \r\nQ 22.3125 -1.421875 17.546875 -0.640625 \r\nQ 12.796875 0.140625 7.71875 1.703125 \r\nL 7.71875 11.625 \r\nQ 12.109375 9.234375 16.796875 8.0625 \r\nQ 21.484375 6.890625 26.703125 6.890625 \r\nQ 35.15625 6.890625 40.078125 11.328125 \r\nQ 45.015625 15.765625 45.015625 23.390625 \r\nQ 45.015625 31 40.078125 35.4375 \r\nQ 35.15625 39.890625 26.703125 39.890625 \r\nQ 22.75 39.890625 18.8125 39.015625 \r\nQ 14.890625 38.140625 10.796875 36.28125 \r\nz\r\n\" id=\"DejaVuSans-53\"/>\r\n       </defs>\r\n       <use xlink:href=\"#DejaVuSans-50\"/>\r\n       <use x=\"63.623047\" xlink:href=\"#DejaVuSans-48\"/>\r\n       <use x=\"127.246094\" xlink:href=\"#DejaVuSans-50\"/>\r\n       <use x=\"190.869141\" xlink:href=\"#DejaVuSans-48\"/>\r\n       <use x=\"254.492188\" xlink:href=\"#DejaVuSans-45\"/>\r\n       <use x=\"290.576172\" xlink:href=\"#DejaVuSans-48\"/>\r\n       <use x=\"354.199219\" xlink:href=\"#DejaVuSans-53\"/>\r\n      </g>\r\n     </g>\r\n    </g>\r\n    <g id=\"xtick_2\">\r\n     <g id=\"line2d_2\">\r\n      <g>\r\n       <use style=\"stroke:#000000;stroke-width:0.8;\" x=\"94.066464\" xlink:href=\"#m78ea98f922\" y=\"218.158125\"/>\r\n      </g>\r\n     </g>\r\n     <g id=\"text_2\">\r\n      <!-- 2020-07 -->\r\n      <g transform=\"translate(56.841643 252.629971)rotate(-30)scale(0.1 -0.1)\">\r\n       <defs>\r\n        <path d=\"M 8.203125 72.90625 \r\nL 55.078125 72.90625 \r\nL 55.078125 68.703125 \r\nL 28.609375 0 \r\nL 18.3125 0 \r\nL 43.21875 64.59375 \r\nL 8.203125 64.59375 \r\nz\r\n\" id=\"DejaVuSans-55\"/>\r\n       </defs>\r\n       <use xlink:href=\"#DejaVuSans-50\"/>\r\n       <use x=\"63.623047\" xlink:href=\"#DejaVuSans-48\"/>\r\n       <use x=\"127.246094\" xlink:href=\"#DejaVuSans-50\"/>\r\n       <use x=\"190.869141\" xlink:href=\"#DejaVuSans-48\"/>\r\n       <use x=\"254.492188\" xlink:href=\"#DejaVuSans-45\"/>\r\n       <use x=\"290.576172\" xlink:href=\"#DejaVuSans-48\"/>\r\n       <use x=\"354.199219\" xlink:href=\"#DejaVuSans-55\"/>\r\n      </g>\r\n     </g>\r\n    </g>\r\n    <g id=\"xtick_3\">\r\n     <g id=\"line2d_3\">\r\n      <g>\r\n       <use style=\"stroke:#000000;stroke-width:0.8;\" x=\"140.660403\" xlink:href=\"#m78ea98f922\" y=\"218.158125\"/>\r\n      </g>\r\n     </g>\r\n     <g id=\"text_3\">\r\n      <!-- 2020-09 -->\r\n      <g transform=\"translate(103.435582 252.629971)rotate(-30)scale(0.1 -0.1)\">\r\n       <defs>\r\n        <path d=\"M 10.984375 1.515625 \r\nL 10.984375 10.5 \r\nQ 14.703125 8.734375 18.5 7.8125 \r\nQ 22.3125 6.890625 25.984375 6.890625 \r\nQ 35.75 6.890625 40.890625 13.453125 \r\nQ 46.046875 20.015625 46.78125 33.40625 \r\nQ 43.953125 29.203125 39.59375 26.953125 \r\nQ 35.25 24.703125 29.984375 24.703125 \r\nQ 19.046875 24.703125 12.671875 31.3125 \r\nQ 6.296875 37.9375 6.296875 49.421875 \r\nQ 6.296875 60.640625 12.9375 67.421875 \r\nQ 19.578125 74.21875 30.609375 74.21875 \r\nQ 43.265625 74.21875 49.921875 64.515625 \r\nQ 56.59375 54.828125 56.59375 36.375 \r\nQ 56.59375 19.140625 48.40625 8.859375 \r\nQ 40.234375 -1.421875 26.421875 -1.421875 \r\nQ 22.703125 -1.421875 18.890625 -0.6875 \r\nQ 15.09375 0.046875 10.984375 1.515625 \r\nz\r\nM 30.609375 32.421875 \r\nQ 37.25 32.421875 41.125 36.953125 \r\nQ 45.015625 41.5 45.015625 49.421875 \r\nQ 45.015625 57.28125 41.125 61.84375 \r\nQ 37.25 66.40625 30.609375 66.40625 \r\nQ 23.96875 66.40625 20.09375 61.84375 \r\nQ 16.21875 57.28125 16.21875 49.421875 \r\nQ 16.21875 41.5 20.09375 36.953125 \r\nQ 23.96875 32.421875 30.609375 32.421875 \r\nz\r\n\" id=\"DejaVuSans-57\"/>\r\n       </defs>\r\n       <use xlink:href=\"#DejaVuSans-50\"/>\r\n       <use x=\"63.623047\" xlink:href=\"#DejaVuSans-48\"/>\r\n       <use x=\"127.246094\" xlink:href=\"#DejaVuSans-50\"/>\r\n       <use x=\"190.869141\" xlink:href=\"#DejaVuSans-48\"/>\r\n       <use x=\"254.492188\" xlink:href=\"#DejaVuSans-45\"/>\r\n       <use x=\"290.576172\" xlink:href=\"#DejaVuSans-48\"/>\r\n       <use x=\"354.199219\" xlink:href=\"#DejaVuSans-57\"/>\r\n      </g>\r\n     </g>\r\n    </g>\r\n    <g id=\"xtick_4\">\r\n     <g id=\"line2d_4\">\r\n      <g>\r\n       <use style=\"stroke:#000000;stroke-width:0.8;\" x=\"186.502827\" xlink:href=\"#m78ea98f922\" y=\"218.158125\"/>\r\n      </g>\r\n     </g>\r\n     <g id=\"text_4\">\r\n      <!-- 2020-11 -->\r\n      <g transform=\"translate(149.278007 252.629971)rotate(-30)scale(0.1 -0.1)\">\r\n       <defs>\r\n        <path d=\"M 12.40625 8.296875 \r\nL 28.515625 8.296875 \r\nL 28.515625 63.921875 \r\nL 10.984375 60.40625 \r\nL 10.984375 69.390625 \r\nL 28.421875 72.90625 \r\nL 38.28125 72.90625 \r\nL 38.28125 8.296875 \r\nL 54.390625 8.296875 \r\nL 54.390625 0 \r\nL 12.40625 0 \r\nz\r\n\" id=\"DejaVuSans-49\"/>\r\n       </defs>\r\n       <use xlink:href=\"#DejaVuSans-50\"/>\r\n       <use x=\"63.623047\" xlink:href=\"#DejaVuSans-48\"/>\r\n       <use x=\"127.246094\" xlink:href=\"#DejaVuSans-50\"/>\r\n       <use x=\"190.869141\" xlink:href=\"#DejaVuSans-48\"/>\r\n       <use x=\"254.492188\" xlink:href=\"#DejaVuSans-45\"/>\r\n       <use x=\"290.576172\" xlink:href=\"#DejaVuSans-49\"/>\r\n       <use x=\"354.199219\" xlink:href=\"#DejaVuSans-49\"/>\r\n      </g>\r\n     </g>\r\n    </g>\r\n    <g id=\"xtick_5\">\r\n     <g id=\"line2d_5\">\r\n      <g>\r\n       <use style=\"stroke:#000000;stroke-width:0.8;\" x=\"232.345252\" xlink:href=\"#m78ea98f922\" y=\"218.158125\"/>\r\n      </g>\r\n     </g>\r\n     <g id=\"text_5\">\r\n      <!-- 2021-01 -->\r\n      <g transform=\"translate(195.120431 252.629971)rotate(-30)scale(0.1 -0.1)\">\r\n       <use xlink:href=\"#DejaVuSans-50\"/>\r\n       <use x=\"63.623047\" xlink:href=\"#DejaVuSans-48\"/>\r\n       <use x=\"127.246094\" xlink:href=\"#DejaVuSans-50\"/>\r\n       <use x=\"190.869141\" xlink:href=\"#DejaVuSans-49\"/>\r\n       <use x=\"254.492188\" xlink:href=\"#DejaVuSans-45\"/>\r\n       <use x=\"290.576172\" xlink:href=\"#DejaVuSans-48\"/>\r\n       <use x=\"354.199219\" xlink:href=\"#DejaVuSans-49\"/>\r\n      </g>\r\n     </g>\r\n    </g>\r\n    <g id=\"xtick_6\">\r\n     <g id=\"line2d_6\">\r\n      <g>\r\n       <use style=\"stroke:#000000;stroke-width:0.8;\" x=\"276.684646\" xlink:href=\"#m78ea98f922\" y=\"218.158125\"/>\r\n      </g>\r\n     </g>\r\n     <g id=\"text_6\">\r\n      <!-- 2021-03 -->\r\n      <g transform=\"translate(239.459825 252.629971)rotate(-30)scale(0.1 -0.1)\">\r\n       <defs>\r\n        <path d=\"M 40.578125 39.3125 \r\nQ 47.65625 37.796875 51.625 33 \r\nQ 55.609375 28.21875 55.609375 21.1875 \r\nQ 55.609375 10.40625 48.1875 4.484375 \r\nQ 40.765625 -1.421875 27.09375 -1.421875 \r\nQ 22.515625 -1.421875 17.65625 -0.515625 \r\nQ 12.796875 0.390625 7.625 2.203125 \r\nL 7.625 11.71875 \r\nQ 11.71875 9.328125 16.59375 8.109375 \r\nQ 21.484375 6.890625 26.8125 6.890625 \r\nQ 36.078125 6.890625 40.9375 10.546875 \r\nQ 45.796875 14.203125 45.796875 21.1875 \r\nQ 45.796875 27.640625 41.28125 31.265625 \r\nQ 36.765625 34.90625 28.71875 34.90625 \r\nL 20.21875 34.90625 \r\nL 20.21875 43.015625 \r\nL 29.109375 43.015625 \r\nQ 36.375 43.015625 40.234375 45.921875 \r\nQ 44.09375 48.828125 44.09375 54.296875 \r\nQ 44.09375 59.90625 40.109375 62.90625 \r\nQ 36.140625 65.921875 28.71875 65.921875 \r\nQ 24.65625 65.921875 20.015625 65.03125 \r\nQ 15.375 64.15625 9.8125 62.3125 \r\nL 9.8125 71.09375 \r\nQ 15.4375 72.65625 20.34375 73.4375 \r\nQ 25.25 74.21875 29.59375 74.21875 \r\nQ 40.828125 74.21875 47.359375 69.109375 \r\nQ 53.90625 64.015625 53.90625 55.328125 \r\nQ 53.90625 49.265625 50.4375 45.09375 \r\nQ 46.96875 40.921875 40.578125 39.3125 \r\nz\r\n\" id=\"DejaVuSans-51\"/>\r\n       </defs>\r\n       <use xlink:href=\"#DejaVuSans-50\"/>\r\n       <use x=\"63.623047\" xlink:href=\"#DejaVuSans-48\"/>\r\n       <use x=\"127.246094\" xlink:href=\"#DejaVuSans-50\"/>\r\n       <use x=\"190.869141\" xlink:href=\"#DejaVuSans-49\"/>\r\n       <use x=\"254.492188\" xlink:href=\"#DejaVuSans-45\"/>\r\n       <use x=\"290.576172\" xlink:href=\"#DejaVuSans-48\"/>\r\n       <use x=\"354.199219\" xlink:href=\"#DejaVuSans-51\"/>\r\n      </g>\r\n     </g>\r\n    </g>\r\n    <g id=\"xtick_7\">\r\n     <g id=\"line2d_7\">\r\n      <g>\r\n       <use style=\"stroke:#000000;stroke-width:0.8;\" x=\"322.52707\" xlink:href=\"#m78ea98f922\" y=\"218.158125\"/>\r\n      </g>\r\n     </g>\r\n     <g id=\"text_7\">\r\n      <!-- 2021-05 -->\r\n      <g transform=\"translate(285.302249 252.629971)rotate(-30)scale(0.1 -0.1)\">\r\n       <use xlink:href=\"#DejaVuSans-50\"/>\r\n       <use x=\"63.623047\" xlink:href=\"#DejaVuSans-48\"/>\r\n       <use x=\"127.246094\" xlink:href=\"#DejaVuSans-50\"/>\r\n       <use x=\"190.869141\" xlink:href=\"#DejaVuSans-49\"/>\r\n       <use x=\"254.492188\" xlink:href=\"#DejaVuSans-45\"/>\r\n       <use x=\"290.576172\" xlink:href=\"#DejaVuSans-48\"/>\r\n       <use x=\"354.199219\" xlink:href=\"#DejaVuSans-53\"/>\r\n      </g>\r\n     </g>\r\n    </g>\r\n    <g id=\"xtick_8\">\r\n     <g id=\"line2d_8\">\r\n      <g>\r\n       <use style=\"stroke:#000000;stroke-width:0.8;\" x=\"368.369494\" xlink:href=\"#m78ea98f922\" y=\"218.158125\"/>\r\n      </g>\r\n     </g>\r\n     <g id=\"text_8\">\r\n      <!-- 2021-07 -->\r\n      <g transform=\"translate(331.144673 252.629971)rotate(-30)scale(0.1 -0.1)\">\r\n       <use xlink:href=\"#DejaVuSans-50\"/>\r\n       <use x=\"63.623047\" xlink:href=\"#DejaVuSans-48\"/>\r\n       <use x=\"127.246094\" xlink:href=\"#DejaVuSans-50\"/>\r\n       <use x=\"190.869141\" xlink:href=\"#DejaVuSans-49\"/>\r\n       <use x=\"254.492188\" xlink:href=\"#DejaVuSans-45\"/>\r\n       <use x=\"290.576172\" xlink:href=\"#DejaVuSans-48\"/>\r\n       <use x=\"354.199219\" xlink:href=\"#DejaVuSans-55\"/>\r\n      </g>\r\n     </g>\r\n    </g>\r\n    <g id=\"text_9\">\r\n     <!-- Time -->\r\n     <g transform=\"translate(202.451052 266.029471)scale(0.1 -0.1)\">\r\n      <defs>\r\n       <path d=\"M -0.296875 72.90625 \r\nL 61.375 72.90625 \r\nL 61.375 64.59375 \r\nL 35.5 64.59375 \r\nL 35.5 0 \r\nL 25.59375 0 \r\nL 25.59375 64.59375 \r\nL -0.296875 64.59375 \r\nz\r\n\" id=\"DejaVuSans-84\"/>\r\n       <path d=\"M 9.421875 54.6875 \r\nL 18.40625 54.6875 \r\nL 18.40625 0 \r\nL 9.421875 0 \r\nz\r\nM 9.421875 75.984375 \r\nL 18.40625 75.984375 \r\nL 18.40625 64.59375 \r\nL 9.421875 64.59375 \r\nz\r\n\" id=\"DejaVuSans-105\"/>\r\n       <path d=\"M 52 44.1875 \r\nQ 55.375 50.25 60.0625 53.125 \r\nQ 64.75 56 71.09375 56 \r\nQ 79.640625 56 84.28125 50.015625 \r\nQ 88.921875 44.046875 88.921875 33.015625 \r\nL 88.921875 0 \r\nL 79.890625 0 \r\nL 79.890625 32.71875 \r\nQ 79.890625 40.578125 77.09375 44.375 \r\nQ 74.3125 48.1875 68.609375 48.1875 \r\nQ 61.625 48.1875 57.5625 43.546875 \r\nQ 53.515625 38.921875 53.515625 30.90625 \r\nL 53.515625 0 \r\nL 44.484375 0 \r\nL 44.484375 32.71875 \r\nQ 44.484375 40.625 41.703125 44.40625 \r\nQ 38.921875 48.1875 33.109375 48.1875 \r\nQ 26.21875 48.1875 22.15625 43.53125 \r\nQ 18.109375 38.875 18.109375 30.90625 \r\nL 18.109375 0 \r\nL 9.078125 0 \r\nL 9.078125 54.6875 \r\nL 18.109375 54.6875 \r\nL 18.109375 46.1875 \r\nQ 21.1875 51.21875 25.484375 53.609375 \r\nQ 29.78125 56 35.6875 56 \r\nQ 41.65625 56 45.828125 52.96875 \r\nQ 50 49.953125 52 44.1875 \r\nz\r\n\" id=\"DejaVuSans-109\"/>\r\n       <path d=\"M 56.203125 29.59375 \r\nL 56.203125 25.203125 \r\nL 14.890625 25.203125 \r\nQ 15.484375 15.921875 20.484375 11.0625 \r\nQ 25.484375 6.203125 34.421875 6.203125 \r\nQ 39.59375 6.203125 44.453125 7.46875 \r\nQ 49.3125 8.734375 54.109375 11.28125 \r\nL 54.109375 2.78125 \r\nQ 49.265625 0.734375 44.1875 -0.34375 \r\nQ 39.109375 -1.421875 33.890625 -1.421875 \r\nQ 20.796875 -1.421875 13.15625 6.1875 \r\nQ 5.515625 13.8125 5.515625 26.8125 \r\nQ 5.515625 40.234375 12.765625 48.109375 \r\nQ 20.015625 56 32.328125 56 \r\nQ 43.359375 56 49.78125 48.890625 \r\nQ 56.203125 41.796875 56.203125 29.59375 \r\nz\r\nM 47.21875 32.234375 \r\nQ 47.125 39.59375 43.09375 43.984375 \r\nQ 39.0625 48.390625 32.421875 48.390625 \r\nQ 24.90625 48.390625 20.390625 44.140625 \r\nQ 15.875 39.890625 15.1875 32.171875 \r\nz\r\n\" id=\"DejaVuSans-101\"/>\r\n      </defs>\r\n      <use xlink:href=\"#DejaVuSans-84\"/>\r\n      <use x=\"57.958984\" xlink:href=\"#DejaVuSans-105\"/>\r\n      <use x=\"85.742188\" xlink:href=\"#DejaVuSans-109\"/>\r\n      <use x=\"183.154297\" xlink:href=\"#DejaVuSans-101\"/>\r\n     </g>\r\n    </g>\r\n   </g>\r\n   <g id=\"matplotlib.axis_2\">\r\n    <g id=\"ytick_1\">\r\n     <g id=\"line2d_9\">\r\n      <defs>\r\n       <path d=\"M 0 0 \r\nL -3.5 0 \r\n\" id=\"m2e7a6ae419\" style=\"stroke:#000000;stroke-width:0.8;\"/>\r\n      </defs>\r\n      <g>\r\n       <use style=\"stroke:#000000;stroke-width:0.8;\" x=\"47.284646\" xlink:href=\"#m2e7a6ae419\" y=\"195.892609\"/>\r\n      </g>\r\n     </g>\r\n     <g id=\"text_10\">\r\n      <!-- 110 -->\r\n      <g transform=\"translate(21.197146 199.691828)scale(0.1 -0.1)\">\r\n       <use xlink:href=\"#DejaVuSans-49\"/>\r\n       <use x=\"63.623047\" xlink:href=\"#DejaVuSans-49\"/>\r\n       <use x=\"127.246094\" xlink:href=\"#DejaVuSans-48\"/>\r\n      </g>\r\n     </g>\r\n    </g>\r\n    <g id=\"ytick_2\">\r\n     <g id=\"line2d_10\">\r\n      <g>\r\n       <use style=\"stroke:#000000;stroke-width:0.8;\" x=\"47.284646\" xlink:href=\"#m2e7a6ae419\" y=\"156.000975\"/>\r\n      </g>\r\n     </g>\r\n     <g id=\"text_11\">\r\n      <!-- 120 -->\r\n      <g transform=\"translate(21.197146 159.800194)scale(0.1 -0.1)\">\r\n       <use xlink:href=\"#DejaVuSans-49\"/>\r\n       <use x=\"63.623047\" xlink:href=\"#DejaVuSans-50\"/>\r\n       <use x=\"127.246094\" xlink:href=\"#DejaVuSans-48\"/>\r\n      </g>\r\n     </g>\r\n    </g>\r\n    <g id=\"ytick_3\">\r\n     <g id=\"line2d_11\">\r\n      <g>\r\n       <use style=\"stroke:#000000;stroke-width:0.8;\" x=\"47.284646\" xlink:href=\"#m2e7a6ae419\" y=\"116.109341\"/>\r\n      </g>\r\n     </g>\r\n     <g id=\"text_12\">\r\n      <!-- 130 -->\r\n      <g transform=\"translate(21.197146 119.90856)scale(0.1 -0.1)\">\r\n       <use xlink:href=\"#DejaVuSans-49\"/>\r\n       <use x=\"63.623047\" xlink:href=\"#DejaVuSans-51\"/>\r\n       <use x=\"127.246094\" xlink:href=\"#DejaVuSans-48\"/>\r\n      </g>\r\n     </g>\r\n    </g>\r\n    <g id=\"ytick_4\">\r\n     <g id=\"line2d_12\">\r\n      <g>\r\n       <use style=\"stroke:#000000;stroke-width:0.8;\" x=\"47.284646\" xlink:href=\"#m2e7a6ae419\" y=\"76.217707\"/>\r\n      </g>\r\n     </g>\r\n     <g id=\"text_13\">\r\n      <!-- 140 -->\r\n      <g transform=\"translate(21.197146 80.016925)scale(0.1 -0.1)\">\r\n       <defs>\r\n        <path d=\"M 37.796875 64.3125 \r\nL 12.890625 25.390625 \r\nL 37.796875 25.390625 \r\nz\r\nM 35.203125 72.90625 \r\nL 47.609375 72.90625 \r\nL 47.609375 25.390625 \r\nL 58.015625 25.390625 \r\nL 58.015625 17.1875 \r\nL 47.609375 17.1875 \r\nL 47.609375 0 \r\nL 37.796875 0 \r\nL 37.796875 17.1875 \r\nL 4.890625 17.1875 \r\nL 4.890625 26.703125 \r\nz\r\n\" id=\"DejaVuSans-52\"/>\r\n       </defs>\r\n       <use xlink:href=\"#DejaVuSans-49\"/>\r\n       <use x=\"63.623047\" xlink:href=\"#DejaVuSans-52\"/>\r\n       <use x=\"127.246094\" xlink:href=\"#DejaVuSans-48\"/>\r\n      </g>\r\n     </g>\r\n    </g>\r\n    <g id=\"ytick_5\">\r\n     <g id=\"line2d_13\">\r\n      <g>\r\n       <use style=\"stroke:#000000;stroke-width:0.8;\" x=\"47.284646\" xlink:href=\"#m2e7a6ae419\" y=\"36.326072\"/>\r\n      </g>\r\n     </g>\r\n     <g id=\"text_14\">\r\n      <!-- 150 -->\r\n      <g transform=\"translate(21.197146 40.125291)scale(0.1 -0.1)\">\r\n       <use xlink:href=\"#DejaVuSans-49\"/>\r\n       <use x=\"63.623047\" xlink:href=\"#DejaVuSans-53\"/>\r\n       <use x=\"127.246094\" xlink:href=\"#DejaVuSans-48\"/>\r\n      </g>\r\n     </g>\r\n    </g>\r\n    <g id=\"text_15\">\r\n     <!-- Stock Price -->\r\n     <g transform=\"translate(15.117458 147.863125)rotate(-90)scale(0.1 -0.1)\">\r\n      <defs>\r\n       <path d=\"M 53.515625 70.515625 \r\nL 53.515625 60.890625 \r\nQ 47.90625 63.578125 42.921875 64.890625 \r\nQ 37.9375 66.21875 33.296875 66.21875 \r\nQ 25.25 66.21875 20.875 63.09375 \r\nQ 16.5 59.96875 16.5 54.203125 \r\nQ 16.5 49.359375 19.40625 46.890625 \r\nQ 22.3125 44.4375 30.421875 42.921875 \r\nL 36.375 41.703125 \r\nQ 47.40625 39.59375 52.65625 34.296875 \r\nQ 57.90625 29 57.90625 20.125 \r\nQ 57.90625 9.515625 50.796875 4.046875 \r\nQ 43.703125 -1.421875 29.984375 -1.421875 \r\nQ 24.8125 -1.421875 18.96875 -0.25 \r\nQ 13.140625 0.921875 6.890625 3.21875 \r\nL 6.890625 13.375 \r\nQ 12.890625 10.015625 18.65625 8.296875 \r\nQ 24.421875 6.59375 29.984375 6.59375 \r\nQ 38.421875 6.59375 43.015625 9.90625 \r\nQ 47.609375 13.234375 47.609375 19.390625 \r\nQ 47.609375 24.75 44.3125 27.78125 \r\nQ 41.015625 30.8125 33.5 32.328125 \r\nL 27.484375 33.5 \r\nQ 16.453125 35.6875 11.515625 40.375 \r\nQ 6.59375 45.0625 6.59375 53.421875 \r\nQ 6.59375 63.09375 13.40625 68.65625 \r\nQ 20.21875 74.21875 32.171875 74.21875 \r\nQ 37.3125 74.21875 42.625 73.28125 \r\nQ 47.953125 72.359375 53.515625 70.515625 \r\nz\r\n\" id=\"DejaVuSans-83\"/>\r\n       <path d=\"M 18.3125 70.21875 \r\nL 18.3125 54.6875 \r\nL 36.8125 54.6875 \r\nL 36.8125 47.703125 \r\nL 18.3125 47.703125 \r\nL 18.3125 18.015625 \r\nQ 18.3125 11.328125 20.140625 9.421875 \r\nQ 21.96875 7.515625 27.59375 7.515625 \r\nL 36.8125 7.515625 \r\nL 36.8125 0 \r\nL 27.59375 0 \r\nQ 17.1875 0 13.234375 3.875 \r\nQ 9.28125 7.765625 9.28125 18.015625 \r\nL 9.28125 47.703125 \r\nL 2.6875 47.703125 \r\nL 2.6875 54.6875 \r\nL 9.28125 54.6875 \r\nL 9.28125 70.21875 \r\nz\r\n\" id=\"DejaVuSans-116\"/>\r\n       <path d=\"M 30.609375 48.390625 \r\nQ 23.390625 48.390625 19.1875 42.75 \r\nQ 14.984375 37.109375 14.984375 27.296875 \r\nQ 14.984375 17.484375 19.15625 11.84375 \r\nQ 23.34375 6.203125 30.609375 6.203125 \r\nQ 37.796875 6.203125 41.984375 11.859375 \r\nQ 46.1875 17.53125 46.1875 27.296875 \r\nQ 46.1875 37.015625 41.984375 42.703125 \r\nQ 37.796875 48.390625 30.609375 48.390625 \r\nz\r\nM 30.609375 56 \r\nQ 42.328125 56 49.015625 48.375 \r\nQ 55.71875 40.765625 55.71875 27.296875 \r\nQ 55.71875 13.875 49.015625 6.21875 \r\nQ 42.328125 -1.421875 30.609375 -1.421875 \r\nQ 18.84375 -1.421875 12.171875 6.21875 \r\nQ 5.515625 13.875 5.515625 27.296875 \r\nQ 5.515625 40.765625 12.171875 48.375 \r\nQ 18.84375 56 30.609375 56 \r\nz\r\n\" id=\"DejaVuSans-111\"/>\r\n       <path d=\"M 48.78125 52.59375 \r\nL 48.78125 44.1875 \r\nQ 44.96875 46.296875 41.140625 47.34375 \r\nQ 37.3125 48.390625 33.40625 48.390625 \r\nQ 24.65625 48.390625 19.8125 42.84375 \r\nQ 14.984375 37.3125 14.984375 27.296875 \r\nQ 14.984375 17.28125 19.8125 11.734375 \r\nQ 24.65625 6.203125 33.40625 6.203125 \r\nQ 37.3125 6.203125 41.140625 7.25 \r\nQ 44.96875 8.296875 48.78125 10.40625 \r\nL 48.78125 2.09375 \r\nQ 45.015625 0.34375 40.984375 -0.53125 \r\nQ 36.96875 -1.421875 32.421875 -1.421875 \r\nQ 20.0625 -1.421875 12.78125 6.34375 \r\nQ 5.515625 14.109375 5.515625 27.296875 \r\nQ 5.515625 40.671875 12.859375 48.328125 \r\nQ 20.21875 56 33.015625 56 \r\nQ 37.15625 56 41.109375 55.140625 \r\nQ 45.0625 54.296875 48.78125 52.59375 \r\nz\r\n\" id=\"DejaVuSans-99\"/>\r\n       <path d=\"M 9.078125 75.984375 \r\nL 18.109375 75.984375 \r\nL 18.109375 31.109375 \r\nL 44.921875 54.6875 \r\nL 56.390625 54.6875 \r\nL 27.390625 29.109375 \r\nL 57.625 0 \r\nL 45.90625 0 \r\nL 18.109375 26.703125 \r\nL 18.109375 0 \r\nL 9.078125 0 \r\nz\r\n\" id=\"DejaVuSans-107\"/>\r\n       <path id=\"DejaVuSans-32\"/>\r\n       <path d=\"M 19.671875 64.796875 \r\nL 19.671875 37.40625 \r\nL 32.078125 37.40625 \r\nQ 38.96875 37.40625 42.71875 40.96875 \r\nQ 46.484375 44.53125 46.484375 51.125 \r\nQ 46.484375 57.671875 42.71875 61.234375 \r\nQ 38.96875 64.796875 32.078125 64.796875 \r\nz\r\nM 9.8125 72.90625 \r\nL 32.078125 72.90625 \r\nQ 44.34375 72.90625 50.609375 67.359375 \r\nQ 56.890625 61.8125 56.890625 51.125 \r\nQ 56.890625 40.328125 50.609375 34.8125 \r\nQ 44.34375 29.296875 32.078125 29.296875 \r\nL 19.671875 29.296875 \r\nL 19.671875 0 \r\nL 9.8125 0 \r\nz\r\n\" id=\"DejaVuSans-80\"/>\r\n       <path d=\"M 41.109375 46.296875 \r\nQ 39.59375 47.171875 37.8125 47.578125 \r\nQ 36.03125 48 33.890625 48 \r\nQ 26.265625 48 22.1875 43.046875 \r\nQ 18.109375 38.09375 18.109375 28.8125 \r\nL 18.109375 0 \r\nL 9.078125 0 \r\nL 9.078125 54.6875 \r\nL 18.109375 54.6875 \r\nL 18.109375 46.1875 \r\nQ 20.953125 51.171875 25.484375 53.578125 \r\nQ 30.03125 56 36.53125 56 \r\nQ 37.453125 56 38.578125 55.875 \r\nQ 39.703125 55.765625 41.0625 55.515625 \r\nz\r\n\" id=\"DejaVuSans-114\"/>\r\n      </defs>\r\n      <use xlink:href=\"#DejaVuSans-83\"/>\r\n      <use x=\"63.476562\" xlink:href=\"#DejaVuSans-116\"/>\r\n      <use x=\"102.685547\" xlink:href=\"#DejaVuSans-111\"/>\r\n      <use x=\"163.867188\" xlink:href=\"#DejaVuSans-99\"/>\r\n      <use x=\"218.847656\" xlink:href=\"#DejaVuSans-107\"/>\r\n      <use x=\"276.757812\" xlink:href=\"#DejaVuSans-32\"/>\r\n      <use x=\"308.544922\" xlink:href=\"#DejaVuSans-80\"/>\r\n      <use x=\"367.097656\" xlink:href=\"#DejaVuSans-114\"/>\r\n      <use x=\"408.210938\" xlink:href=\"#DejaVuSans-105\"/>\r\n      <use x=\"435.994141\" xlink:href=\"#DejaVuSans-99\"/>\r\n      <use x=\"490.974609\" xlink:href=\"#DejaVuSans-101\"/>\r\n     </g>\r\n    </g>\r\n   </g>\r\n   <g id=\"line2d_14\">\r\n    <path clip-path=\"url(#p21e068f37d)\" d=\"M 62.502827 150.49593 \r\nL 63.254343 159.511439 \r\nL 64.005858 162.423528 \r\nL 67.011918 148.980047 \r\nL 67.763434 133.90101 \r\nL 68.514949 137.930065 \r\nL 69.266464 136.454074 \r\nL 71.521009 136.493966 \r\nL 72.272524 132.065995 \r\nL 73.02404 119.899046 \r\nL 73.775555 120.537312 \r\nL 74.52707 107.891664 \r\nL 76.781615 93.171651 \r\nL 77.53313 108.649605 \r\nL 78.284646 116.627932 \r\nL 79.036161 163.93941 \r\nL 79.787676 148.381673 \r\nL 82.042221 149.418855 \r\nL 82.793737 135.456783 \r\nL 83.545252 139.445947 \r\nL 84.296767 139.406055 \r\nL 85.048282 146.147741 \r\nL 87.302827 151.73257 \r\nL 88.054343 158.354582 \r\nL 88.805858 170.28218 \r\nL 89.557373 159.870464 \r\nL 90.308888 167.210524 \r\nL 92.563434 156.998266 \r\nL 93.314949 152.929319 \r\nL 94.066464 161.825154 \r\nL 94.817979 157.197724 \r\nL 97.82404 155.243034 \r\nL 98.575555 165.654751 \r\nL 99.32707 165.136159 \r\nL 100.078585 173.114486 \r\nL 100.8301 162.583095 \r\nL 103.084646 159.192306 \r\nL 103.836161 153.607477 \r\nL 104.587676 144.033485 \r\nL 106.090706 135.61635 \r\nL 108.345252 130.590004 \r\nL 109.096767 131.826645 \r\nL 109.848282 121.414928 \r\nL 111.351312 132.903719 \r\nL 113.605858 131.22827 \r\nL 114.357373 138.169415 \r\nL 115.108888 134.778626 \r\nL 115.860403 144.432401 \r\nL 116.611918 144.272835 \r\nL 118.866464 138.807681 \r\nL 119.617979 132.704261 \r\nL 120.369494 134.260034 \r\nL 121.121009 131.587295 \r\nL 121.872524 136.214725 \r\nL 124.12707 127.638023 \r\nL 124.878585 129.074122 \r\nL 125.6301 129.27358 \r\nL 126.381615 135.935483 \r\nL 127.13313 134.978084 \r\nL 129.387676 138.289089 \r\nL 130.139191 136.374291 \r\nL 130.890706 140.682588 \r\nL 131.642221 143.43511 \r\nL 132.393737 143.395219 \r\nL 134.648282 133.342527 \r\nL 135.399797 137.491257 \r\nL 136.151312 139.366164 \r\nL 137.654343 135.775917 \r\nL 139.908888 142.796844 \r\nL 140.660403 142.437819 \r\nL 141.411918 123.369618 \r\nL 142.163434 138.249198 \r\nL 142.914949 146.825899 \r\nL 145.921009 151.174087 \r\nL 146.672524 146.985466 \r\nL 147.42404 153.767044 \r\nL 148.175555 150.176797 \r\nL 150.4301 147.663624 \r\nL 151.181615 146.267416 \r\nL 151.93313 139.166705 \r\nL 152.684646 136.374291 \r\nL 153.436161 144.990884 \r\nL 155.690706 155.003684 \r\nL 156.442221 153.966502 \r\nL 157.193737 160.668296 \r\nL 157.945252 163.620277 \r\nL 158.696767 160.189597 \r\nL 160.951312 149.099722 \r\nL 161.702827 152.251161 \r\nL 162.454343 149.339072 \r\nL 163.957373 153.727152 \r\nL 166.211918 147.982757 \r\nL 166.963434 148.142323 \r\nL 167.714949 139.76508 \r\nL 168.466464 110.165487 \r\nL 169.217979 124.925392 \r\nL 171.472524 127.239107 \r\nL 172.22404 135.656242 \r\nL 172.975555 132.305344 \r\nL 173.72707 136.493966 \r\nL 174.478585 132.345236 \r\nL 176.73313 133.980793 \r\nL 177.484646 166.492475 \r\nL 178.236161 175.707442 \r\nL 178.987676 172.915028 \r\nL 179.739191 171.957629 \r\nL 181.993737 187.036667 \r\nL 182.745252 193.658678 \r\nL 183.496767 209.256307 \r\nL 184.248282 200.240797 \r\nL 184.999797 189.270598 \r\nL 187.254343 184.284144 \r\nL 188.005858 179.29769 \r\nL 188.757373 188.313199 \r\nL 189.508888 176.8643 \r\nL 190.260403 179.776389 \r\nL 192.514949 173.832536 \r\nL 193.266464 164.338327 \r\nL 194.017979 167.170633 \r\nL 194.769494 177.941374 \r\nL 195.521009 168.56684 \r\nL 197.775555 162.543203 \r\nL 198.52707 165.176051 \r\nL 199.278585 168.885973 \r\nL 200.0301 167.250416 \r\nL 200.781615 168.207815 \r\nL 203.036161 155.64195 \r\nL 203.787676 138.368873 \r\nL 204.539191 139.246489 \r\nL 206.042221 138.648114 \r\nL 208.296767 141.95912 \r\nL 209.048282 143.395219 \r\nL 209.799797 137.57104 \r\nL 210.551312 141.600095 \r\nL 211.302827 127.278998 \r\nL 213.557373 137.251907 \r\nL 215.060403 128.914555 \r\nL 215.811918 136.214725 \r\nL 216.563434 138.967247 \r\nL 218.817979 141.919228 \r\nL 219.569494 132.345236 \r\nL 220.321009 133.861118 \r\nL 221.072524 133.861118 \r\nL 221.82404 132.664369 \r\nL 224.078585 142.477711 \r\nL 224.8301 141.600095 \r\nL 225.581615 140.443238 \r\nL 226.33313 137.291799 \r\nL 229.339191 136.773207 \r\nL 230.090706 140.842154 \r\nL 230.842221 138.688006 \r\nL 231.593737 132.544694 \r\nL 234.599797 140.283671 \r\nL 235.351312 131.507512 \r\nL 236.102827 118.941647 \r\nL 236.854343 120.138396 \r\nL 237.605858 121.973411 \r\nL 239.860403 121.773953 \r\nL 240.611918 119.26078 \r\nL 241.363434 128.395964 \r\nL 242.114949 120.218179 \r\nL 242.866464 122.531894 \r\nL 245.872524 120.018721 \r\nL 246.62404 115.790208 \r\nL 247.375555 109.527221 \r\nL 248.12707 161.545912 \r\nL 250.381615 161.665587 \r\nL 251.13313 146.067958 \r\nL 251.884646 146.147741 \r\nL 252.636161 155.681842 \r\nL 253.387676 159.551331 \r\nL 255.642221 153.846827 \r\nL 256.393737 158.234907 \r\nL 257.145252 159.511439 \r\nL 257.896767 151.932028 \r\nL 258.648282 148.860373 \r\nL 260.902827 141.600095 \r\nL 261.654343 147.623732 \r\nL 262.405858 147.065249 \r\nL 263.157373 152.370836 \r\nL 263.908888 152.809644 \r\nL 266.914949 155.721734 \r\nL 267.666464 156.12065 \r\nL 268.417979 153.088886 \r\nL 269.169494 160.03003 \r\nL 271.42404 152.570295 \r\nL 272.175555 153.168669 \r\nL 272.92707 143.195761 \r\nL 273.678585 146.147741 \r\nL 274.4301 160.26938 \r\nL 276.684646 153.048994 \r\nL 277.436161 154.684551 \r\nL 278.187676 146.586549 \r\nL 278.939191 155.562167 \r\nL 279.690706 144.711643 \r\nL 281.945252 136.813099 \r\nL 282.696767 139.326272 \r\nL 283.448282 124.606259 \r\nL 284.199797 127.518348 \r\nL 284.951312 125.643441 \r\nL 287.205858 121.773953 \r\nL 287.957373 123.130268 \r\nL 288.708888 119.978829 \r\nL 289.460403 115.869991 \r\nL 290.211918 120.497421 \r\nL 292.466464 113.915301 \r\nL 293.217979 114.274326 \r\nL 293.969494 113.63606 \r\nL 294.721009 103.862609 \r\nL 295.472524 90.658478 \r\nL 297.72707 92.732843 \r\nL 298.478585 97.280489 \r\nL 299.2301 103.104668 \r\nL 299.981615 103.224343 \r\nL 302.987676 92.453602 \r\nL 303.739191 99.275071 \r\nL 304.490706 96.442765 \r\nL 305.242221 95.684824 \r\nL 305.993737 93.251434 \r\nL 308.248282 97.799081 \r\nL 308.999797 111.402128 \r\nL 309.751312 105.617841 \r\nL 310.502827 105.817299 \r\nL 311.254343 101.788244 \r\nL 313.508888 103.663151 \r\nL 315.011918 62.056176 \r\nL 315.763434 71.111577 \r\nL 316.514949 66.524039 \r\nL 318.769494 69.95472 \r\nL 319.521009 68.199488 \r\nL 320.272524 64.250216 \r\nL 321.02404 59.303654 \r\nL 321.775555 68.718079 \r\nL 324.781615 53.280017 \r\nL 325.53313 55.394274 \r\nL 326.284646 42.628951 \r\nL 327.036161 54.436874 \r\nL 329.290706 51.604568 \r\nL 330.042221 59.383437 \r\nL 330.793737 71.031794 \r\nL 331.545252 59.582895 \r\nL 332.296767 57.548422 \r\nL 334.551312 55.833082 \r\nL 335.302827 60.620078 \r\nL 336.054343 63.492275 \r\nL 336.805858 60.739753 \r\nL 337.557373 57.309072 \r\nL 339.811918 57.388855 \r\nL 340.563434 61.098777 \r\nL 341.314949 62.734334 \r\nL 342.066464 60.979102 \r\nL 342.817979 61.298235 \r\nL 345.82404 59.503112 \r\nL 346.575555 53.399692 \r\nL 347.32707 54.07785 \r\nL 348.078585 46.618114 \r\nL 350.33313 44.224616 \r\nL 351.084646 40.035994 \r\nL 351.836161 33.653333 \r\nL 352.587676 34.171924 \r\nL 353.339191 31.219943 \r\nL 355.593737 36.206397 \r\nL 356.345252 38.879137 \r\nL 357.096767 44.982557 \r\nL 358.599797 63.771517 \r\nL 360.854343 49.68977 \r\nL 361.605858 50.846627 \r\nL 362.357373 57.827663 \r\nL 363.108888 54.516658 \r\nL 363.860403 48.931829 \r\nL 366.114949 55.115032 \r\nL 366.866464 54.07785 \r\nL 366.866464 54.07785 \r\n\" style=\"fill:none;stroke:#ff0000;stroke-linecap:square;stroke-width:1.5;\"/>\r\n   </g>\r\n   <g id=\"line2d_15\">\r\n    <path clip-path=\"url(#p21e068f37d)\" d=\"M 62.502827 142.509183 \r\nL 63.254343 138.410302 \r\nL 64.005858 133.271186 \r\nL 67.011918 130.140104 \r\nL 67.763434 128.454285 \r\nL 68.514949 125.894983 \r\nL 69.266464 121.2151 \r\nL 71.521009 116.244654 \r\nL 72.272524 113.480983 \r\nL 73.02404 112.845076 \r\nL 73.775555 112.699414 \r\nL 74.52707 112.313196 \r\nL 76.781615 110.477667 \r\nL 79.036161 97.9786 \r\nL 79.787676 100.715185 \r\nL 82.042221 108.081892 \r\nL 82.793737 117.360094 \r\nL 83.545252 124.429726 \r\nL 84.296767 125.849849 \r\nL 85.048282 123.699684 \r\nL 87.302827 120.560506 \r\nL 88.054343 119.225449 \r\nL 88.805858 121.09896 \r\nL 89.557373 126.530495 \r\nL 90.308888 133.998124 \r\nL 92.563434 140.283905 \r\nL 93.314949 142.966985 \r\nL 94.066464 141.934177 \r\nL 94.817979 138.705977 \r\nL 97.82404 134.467095 \r\nL 98.575555 130.832407 \r\nL 99.32707 129.343349 \r\nL 100.078585 130.242335 \r\nL 100.8301 132.701232 \r\nL 103.084646 134.914945 \r\nL 103.836161 134.845918 \r\nL 104.587676 132.098651 \r\nL 105.339191 126.647912 \r\nL 106.090706 119.519267 \r\nL 108.345252 113.071816 \r\nL 109.096767 107.809743 \r\nL 109.848282 103.860571 \r\nL 110.599797 101.306839 \r\nL 111.351312 100.071 \r\nL 113.605858 100.169548 \r\nL 114.357373 101.517571 \r\nL 116.611918 107.577403 \r\nL 118.866464 109.559446 \r\nL 119.617979 110.889573 \r\nL 120.369494 110.877642 \r\nL 121.121009 109.449393 \r\nL 121.872524 107.301298 \r\nL 124.12707 105.700422 \r\nL 124.878585 104.857436 \r\nL 125.6301 104.375104 \r\nL 126.381615 104.381982 \r\nL 127.13313 105.144681 \r\nL 129.387676 106.660643 \r\nL 130.139191 108.305649 \r\nL 130.890706 109.381219 \r\nL 131.642221 109.584281 \r\nL 132.393737 109.42261 \r\nL 134.648282 109.540515 \r\nL 135.399797 109.840664 \r\nL 136.151312 109.827942 \r\nL 136.902827 109.955769 \r\nL 137.654343 110.43378 \r\nL 139.908888 110.992443 \r\nL 140.660403 111.712593 \r\nL 141.411918 112.688336 \r\nL 142.163434 112.575179 \r\nL 142.914949 110.904303 \r\nL 145.921009 109.187714 \r\nL 146.672524 108.966452 \r\nL 147.42404 110.374858 \r\nL 148.175555 113.007294 \r\nL 150.4301 115.848514 \r\nL 151.181615 117.847052 \r\nL 151.93313 118.469811 \r\nL 152.684646 117.504842 \r\nL 153.436161 115.619339 \r\nL 155.690706 113.741506 \r\nL 156.442221 113.587809 \r\nL 157.193737 115.44513 \r\nL 157.945252 118.656255 \r\nL 158.696767 122.359939 \r\nL 161.702827 126.44272 \r\nL 162.454343 125.093176 \r\nL 163.957373 118.813847 \r\nL 166.211918 117.320406 \r\nL 166.963434 117.423337 \r\nL 167.714949 118.077566 \r\nL 168.466464 118.185792 \r\nL 169.217979 114.176055 \r\nL 171.472524 107.981396 \r\nL 172.22404 102.373887 \r\nL 172.975555 99.805973 \r\nL 173.72707 100.481201 \r\nL 174.478585 103.260821 \r\nL 176.73313 106.350877 \r\nL 177.484646 108.117014 \r\nL 178.236161 110.181657 \r\nL 178.987676 114.484908 \r\nL 179.739191 120.63568 \r\nL 181.993737 127.173523 \r\nL 182.745252 132.797619 \r\nL 184.248282 141.170382 \r\nL 184.999797 145.221237 \r\nL 187.254343 148.174731 \r\nL 188.005858 148.538855 \r\nL 188.757373 146.479386 \r\nL 190.260403 140.263087 \r\nL 192.514949 138.572185 \r\nL 193.266464 137.260958 \r\nL 194.769494 133.529305 \r\nL 195.521009 132.326548 \r\nL 197.775555 131.801941 \r\nL 198.52707 130.953234 \r\nL 199.278585 129.171514 \r\nL 200.0301 126.80937 \r\nL 200.781615 125.350899 \r\nL 203.787676 124.951106 \r\nL 206.042221 118.357263 \r\nL 208.296767 113.470817 \r\nL 209.048282 109.646672 \r\nL 209.799797 107.800795 \r\nL 210.551312 107.678386 \r\nL 211.302827 108.576033 \r\nL 214.308888 109.631455 \r\nL 215.060403 109.394306 \r\nL 216.563434 108.001361 \r\nL 218.817979 108.115005 \r\nL 219.569494 109.301723 \r\nL 221.072524 112.756389 \r\nL 221.82404 113.250956 \r\nL 224.8301 112.574631 \r\nL 225.581615 112.974789 \r\nL 226.33313 113.846141 \r\nL 229.339191 114.330056 \r\nL 230.090706 113.650566 \r\nL 230.842221 112.539449 \r\nL 231.593737 111.99716 \r\nL 234.599797 111.846081 \r\nL 236.102827 112.012803 \r\nL 236.854343 110.869425 \r\nL 237.605858 108.420633 \r\nL 239.860403 105.812848 \r\nL 240.611918 104.049268 \r\nL 241.363434 103.24536 \r\nL 242.114949 103.429491 \r\nL 242.866464 104.055476 \r\nL 245.872524 104.56587 \r\nL 246.62404 104.551322 \r\nL 247.375555 103.815649 \r\nL 248.12707 102.149521 \r\nL 250.381615 103.087768 \r\nL 251.13313 107.491212 \r\nL 252.636161 121.113934 \r\nL 253.387676 123.950345 \r\nL 255.642221 124.326521 \r\nL 256.393737 123.651475 \r\nL 257.145252 123.24249 \r\nL 257.896767 123.902502 \r\nL 258.648282 125.404038 \r\nL 260.902827 126.625604 \r\nL 261.654343 126.409546 \r\nL 262.405858 125.068402 \r\nL 263.908888 121.971103 \r\nL 266.914949 121.281326 \r\nL 267.666464 121.961729 \r\nL 268.417979 123.410126 \r\nL 269.169494 124.508491 \r\nL 271.42404 125.270398 \r\nL 272.175555 125.226663 \r\nL 272.92707 124.188407 \r\nL 273.678585 122.116703 \r\nL 274.4301 119.396371 \r\nL 276.684646 117.49279 \r\nL 277.436161 117.285467 \r\nL 278.939191 119.82459 \r\nL 279.690706 120.55095 \r\nL 281.945252 120.357505 \r\nL 282.696767 117.905791 \r\nL 284.951312 105.087463 \r\nL 287.205858 102.214895 \r\nL 287.957373 100.84149 \r\nL 288.708888 100.762968 \r\nL 289.460403 101.299657 \r\nL 290.211918 101.496023 \r\nL 292.466464 100.977656 \r\nL 293.217979 99.849373 \r\nL 293.969494 98.225123 \r\nL 295.472524 93.882428 \r\nL 297.72707 90.766016 \r\nL 299.2301 82.959707 \r\nL 299.981615 81.386344 \r\nL 302.987676 82.581036 \r\nL 304.490706 86.727669 \r\nL 305.242221 87.784734 \r\nL 305.993737 87.79843 \r\nL 308.248282 86.839305 \r\nL 308.999797 85.509056 \r\nL 309.751312 85.27349 \r\nL 310.502827 86.666008 \r\nL 311.254343 88.934017 \r\nL 313.508888 90.866025 \r\nL 314.260403 91.925707 \r\nL 315.011918 90.76699 \r\nL 315.763434 86.548164 \r\nL 316.514949 80.1124 \r\nL 318.769494 74.102724 \r\nL 319.521009 69.76636 \r\nL 320.272524 67.62076 \r\nL 321.02404 67.211045 \r\nL 321.775555 67.291454 \r\nL 324.0301 67.700499 \r\nL 324.781615 68.144545 \r\nL 325.53313 68.347241 \r\nL 326.284646 68.255875 \r\nL 327.036161 67.328524 \r\nL 329.290706 66.289172 \r\nL 330.042221 65.749257 \r\nL 330.793737 66.398616 \r\nL 331.545252 68.63692 \r\nL 332.296767 71.956577 \r\nL 334.551312 74.763588 \r\nL 335.302827 76.307185 \r\nL 336.805858 76.795178 \r\nL 337.557373 77.445085 \r\nL 339.811918 77.954383 \r\nL 340.563434 77.789608 \r\nL 341.314949 77.131849 \r\nL 342.066464 76.70783 \r\nL 342.817979 76.706795 \r\nL 345.82404 77.007188 \r\nL 346.575555 77.248415 \r\nL 347.32707 77.102997 \r\nL 348.078585 76.628334 \r\nL 350.33313 75.389634 \r\nL 351.084646 73.053633 \r\nL 351.836161 69.640055 \r\nL 353.339191 60.357836 \r\nL 355.593737 56.334707 \r\nL 356.345252 54.015872 \r\nL 357.096767 53.978133 \r\nL 357.848282 56.124402 \r\nL 358.599797 59.656677 \r\nL 360.854343 64.566131 \r\nL 361.605858 69.406923 \r\nL 362.357373 72.530031 \r\nL 363.108888 73.369669 \r\nL 363.860403 72.426431 \r\nL 366.114949 70.34231 \r\nL 366.866464 68.444085 \r\nL 366.866464 68.444085 \r\n\" style=\"fill:none;stroke:#0000ff;stroke-linecap:square;stroke-width:1.5;\"/>\r\n   </g>\r\n   <g id=\"patch_3\">\r\n    <path d=\"M 47.284646 218.158125 \r\nL 47.284646 22.318125 \r\n\" style=\"fill:none;stroke:#000000;stroke-linecap:square;stroke-linejoin:miter;stroke-width:0.8;\"/>\r\n   </g>\r\n   <g id=\"patch_4\">\r\n    <path d=\"M 382.084646 218.158125 \r\nL 382.084646 22.318125 \r\n\" style=\"fill:none;stroke:#000000;stroke-linecap:square;stroke-linejoin:miter;stroke-width:0.8;\"/>\r\n   </g>\r\n   <g id=\"patch_5\">\r\n    <path d=\"M 47.284646 218.158125 \r\nL 382.084646 218.158125 \r\n\" style=\"fill:none;stroke:#000000;stroke-linecap:square;stroke-linejoin:miter;stroke-width:0.8;\"/>\r\n   </g>\r\n   <g id=\"patch_6\">\r\n    <path d=\"M 47.284646 22.318125 \r\nL 382.084646 22.318125 \r\n\" style=\"fill:none;stroke:#000000;stroke-linecap:square;stroke-linejoin:miter;stroke-width:0.8;\"/>\r\n   </g>\r\n   <g id=\"text_16\">\r\n    <!-- Stock Price Prediction -->\r\n    <g transform=\"translate(149.823708 16.318125)scale(0.12 -0.12)\">\r\n     <defs>\r\n      <path d=\"M 45.40625 46.390625 \r\nL 45.40625 75.984375 \r\nL 54.390625 75.984375 \r\nL 54.390625 0 \r\nL 45.40625 0 \r\nL 45.40625 8.203125 \r\nQ 42.578125 3.328125 38.25 0.953125 \r\nQ 33.9375 -1.421875 27.875 -1.421875 \r\nQ 17.96875 -1.421875 11.734375 6.484375 \r\nQ 5.515625 14.40625 5.515625 27.296875 \r\nQ 5.515625 40.1875 11.734375 48.09375 \r\nQ 17.96875 56 27.875 56 \r\nQ 33.9375 56 38.25 53.625 \r\nQ 42.578125 51.265625 45.40625 46.390625 \r\nz\r\nM 14.796875 27.296875 \r\nQ 14.796875 17.390625 18.875 11.75 \r\nQ 22.953125 6.109375 30.078125 6.109375 \r\nQ 37.203125 6.109375 41.296875 11.75 \r\nQ 45.40625 17.390625 45.40625 27.296875 \r\nQ 45.40625 37.203125 41.296875 42.84375 \r\nQ 37.203125 48.484375 30.078125 48.484375 \r\nQ 22.953125 48.484375 18.875 42.84375 \r\nQ 14.796875 37.203125 14.796875 27.296875 \r\nz\r\n\" id=\"DejaVuSans-100\"/>\r\n      <path d=\"M 54.890625 33.015625 \r\nL 54.890625 0 \r\nL 45.90625 0 \r\nL 45.90625 32.71875 \r\nQ 45.90625 40.484375 42.875 44.328125 \r\nQ 39.84375 48.1875 33.796875 48.1875 \r\nQ 26.515625 48.1875 22.3125 43.546875 \r\nQ 18.109375 38.921875 18.109375 30.90625 \r\nL 18.109375 0 \r\nL 9.078125 0 \r\nL 9.078125 54.6875 \r\nL 18.109375 54.6875 \r\nL 18.109375 46.1875 \r\nQ 21.34375 51.125 25.703125 53.5625 \r\nQ 30.078125 56 35.796875 56 \r\nQ 45.21875 56 50.046875 50.171875 \r\nQ 54.890625 44.34375 54.890625 33.015625 \r\nz\r\n\" id=\"DejaVuSans-110\"/>\r\n     </defs>\r\n     <use xlink:href=\"#DejaVuSans-83\"/>\r\n     <use x=\"63.476562\" xlink:href=\"#DejaVuSans-116\"/>\r\n     <use x=\"102.685547\" xlink:href=\"#DejaVuSans-111\"/>\r\n     <use x=\"163.867188\" xlink:href=\"#DejaVuSans-99\"/>\r\n     <use x=\"218.847656\" xlink:href=\"#DejaVuSans-107\"/>\r\n     <use x=\"276.757812\" xlink:href=\"#DejaVuSans-32\"/>\r\n     <use x=\"308.544922\" xlink:href=\"#DejaVuSans-80\"/>\r\n     <use x=\"367.097656\" xlink:href=\"#DejaVuSans-114\"/>\r\n     <use x=\"408.210938\" xlink:href=\"#DejaVuSans-105\"/>\r\n     <use x=\"435.994141\" xlink:href=\"#DejaVuSans-99\"/>\r\n     <use x=\"490.974609\" xlink:href=\"#DejaVuSans-101\"/>\r\n     <use x=\"552.498047\" xlink:href=\"#DejaVuSans-32\"/>\r\n     <use x=\"584.285156\" xlink:href=\"#DejaVuSans-80\"/>\r\n     <use x=\"642.837891\" xlink:href=\"#DejaVuSans-114\"/>\r\n     <use x=\"681.701172\" xlink:href=\"#DejaVuSans-101\"/>\r\n     <use x=\"743.224609\" xlink:href=\"#DejaVuSans-100\"/>\r\n     <use x=\"806.701172\" xlink:href=\"#DejaVuSans-105\"/>\r\n     <use x=\"834.484375\" xlink:href=\"#DejaVuSans-99\"/>\r\n     <use x=\"889.464844\" xlink:href=\"#DejaVuSans-116\"/>\r\n     <use x=\"928.673828\" xlink:href=\"#DejaVuSans-105\"/>\r\n     <use x=\"956.457031\" xlink:href=\"#DejaVuSans-111\"/>\r\n     <use x=\"1017.638672\" xlink:href=\"#DejaVuSans-110\"/>\r\n    </g>\r\n   </g>\r\n   <g id=\"legend_1\">\r\n    <g id=\"patch_7\">\r\n     <path d=\"M 54.284646 59.674375 \r\nL 191.653396 59.674375 \r\nQ 193.653396 59.674375 193.653396 57.674375 \r\nL 193.653396 29.318125 \r\nQ 193.653396 27.318125 191.653396 27.318125 \r\nL 54.284646 27.318125 \r\nQ 52.284646 27.318125 52.284646 29.318125 \r\nL 52.284646 57.674375 \r\nQ 52.284646 59.674375 54.284646 59.674375 \r\nz\r\n\" style=\"fill:#ffffff;opacity:0.8;stroke:#cccccc;stroke-linejoin:miter;\"/>\r\n    </g>\r\n    <g id=\"line2d_16\">\r\n     <path d=\"M 56.284646 35.416562 \r\nL 76.284646 35.416562 \r\n\" style=\"fill:none;stroke:#ff0000;stroke-linecap:square;stroke-width:1.5;\"/>\r\n    </g>\r\n    <g id=\"line2d_17\"/>\r\n    <g id=\"text_17\">\r\n     <!-- Real Stock Price -->\r\n     <g transform=\"translate(84.284646 38.916562)scale(0.1 -0.1)\">\r\n      <defs>\r\n       <path d=\"M 44.390625 34.1875 \r\nQ 47.5625 33.109375 50.5625 29.59375 \r\nQ 53.5625 26.078125 56.59375 19.921875 \r\nL 66.609375 0 \r\nL 56 0 \r\nL 46.6875 18.703125 \r\nQ 43.0625 26.03125 39.671875 28.421875 \r\nQ 36.28125 30.8125 30.421875 30.8125 \r\nL 19.671875 30.8125 \r\nL 19.671875 0 \r\nL 9.8125 0 \r\nL 9.8125 72.90625 \r\nL 32.078125 72.90625 \r\nQ 44.578125 72.90625 50.734375 67.671875 \r\nQ 56.890625 62.453125 56.890625 51.90625 \r\nQ 56.890625 45.015625 53.6875 40.46875 \r\nQ 50.484375 35.9375 44.390625 34.1875 \r\nz\r\nM 19.671875 64.796875 \r\nL 19.671875 38.921875 \r\nL 32.078125 38.921875 \r\nQ 39.203125 38.921875 42.84375 42.21875 \r\nQ 46.484375 45.515625 46.484375 51.90625 \r\nQ 46.484375 58.296875 42.84375 61.546875 \r\nQ 39.203125 64.796875 32.078125 64.796875 \r\nz\r\n\" id=\"DejaVuSans-82\"/>\r\n       <path d=\"M 34.28125 27.484375 \r\nQ 23.390625 27.484375 19.1875 25 \r\nQ 14.984375 22.515625 14.984375 16.5 \r\nQ 14.984375 11.71875 18.140625 8.90625 \r\nQ 21.296875 6.109375 26.703125 6.109375 \r\nQ 34.1875 6.109375 38.703125 11.40625 \r\nQ 43.21875 16.703125 43.21875 25.484375 \r\nL 43.21875 27.484375 \r\nz\r\nM 52.203125 31.203125 \r\nL 52.203125 0 \r\nL 43.21875 0 \r\nL 43.21875 8.296875 \r\nQ 40.140625 3.328125 35.546875 0.953125 \r\nQ 30.953125 -1.421875 24.3125 -1.421875 \r\nQ 15.921875 -1.421875 10.953125 3.296875 \r\nQ 6 8.015625 6 15.921875 \r\nQ 6 25.140625 12.171875 29.828125 \r\nQ 18.359375 34.515625 30.609375 34.515625 \r\nL 43.21875 34.515625 \r\nL 43.21875 35.40625 \r\nQ 43.21875 41.609375 39.140625 45 \r\nQ 35.0625 48.390625 27.6875 48.390625 \r\nQ 23 48.390625 18.546875 47.265625 \r\nQ 14.109375 46.140625 10.015625 43.890625 \r\nL 10.015625 52.203125 \r\nQ 14.9375 54.109375 19.578125 55.046875 \r\nQ 24.21875 56 28.609375 56 \r\nQ 40.484375 56 46.34375 49.84375 \r\nQ 52.203125 43.703125 52.203125 31.203125 \r\nz\r\n\" id=\"DejaVuSans-97\"/>\r\n       <path d=\"M 9.421875 75.984375 \r\nL 18.40625 75.984375 \r\nL 18.40625 0 \r\nL 9.421875 0 \r\nz\r\n\" id=\"DejaVuSans-108\"/>\r\n      </defs>\r\n      <use xlink:href=\"#DejaVuSans-82\"/>\r\n      <use x=\"64.982422\" xlink:href=\"#DejaVuSans-101\"/>\r\n      <use x=\"126.505859\" xlink:href=\"#DejaVuSans-97\"/>\r\n      <use x=\"187.785156\" xlink:href=\"#DejaVuSans-108\"/>\r\n      <use x=\"215.568359\" xlink:href=\"#DejaVuSans-32\"/>\r\n      <use x=\"247.355469\" xlink:href=\"#DejaVuSans-83\"/>\r\n      <use x=\"310.832031\" xlink:href=\"#DejaVuSans-116\"/>\r\n      <use x=\"350.041016\" xlink:href=\"#DejaVuSans-111\"/>\r\n      <use x=\"411.222656\" xlink:href=\"#DejaVuSans-99\"/>\r\n      <use x=\"466.203125\" xlink:href=\"#DejaVuSans-107\"/>\r\n      <use x=\"524.113281\" xlink:href=\"#DejaVuSans-32\"/>\r\n      <use x=\"555.900391\" xlink:href=\"#DejaVuSans-80\"/>\r\n      <use x=\"614.453125\" xlink:href=\"#DejaVuSans-114\"/>\r\n      <use x=\"655.566406\" xlink:href=\"#DejaVuSans-105\"/>\r\n      <use x=\"683.349609\" xlink:href=\"#DejaVuSans-99\"/>\r\n      <use x=\"738.330078\" xlink:href=\"#DejaVuSans-101\"/>\r\n     </g>\r\n    </g>\r\n    <g id=\"line2d_18\">\r\n     <path d=\"M 56.284646 50.094687 \r\nL 76.284646 50.094687 \r\n\" style=\"fill:none;stroke:#0000ff;stroke-linecap:square;stroke-width:1.5;\"/>\r\n    </g>\r\n    <g id=\"line2d_19\"/>\r\n    <g id=\"text_18\">\r\n     <!-- Predicted Stock Price -->\r\n     <g transform=\"translate(84.284646 53.594687)scale(0.1 -0.1)\">\r\n      <use xlink:href=\"#DejaVuSans-80\"/>\r\n      <use x=\"58.552734\" xlink:href=\"#DejaVuSans-114\"/>\r\n      <use x=\"97.416016\" xlink:href=\"#DejaVuSans-101\"/>\r\n      <use x=\"158.939453\" xlink:href=\"#DejaVuSans-100\"/>\r\n      <use x=\"222.416016\" xlink:href=\"#DejaVuSans-105\"/>\r\n      <use x=\"250.199219\" xlink:href=\"#DejaVuSans-99\"/>\r\n      <use x=\"305.179688\" xlink:href=\"#DejaVuSans-116\"/>\r\n      <use x=\"344.388672\" xlink:href=\"#DejaVuSans-101\"/>\r\n      <use x=\"405.912109\" xlink:href=\"#DejaVuSans-100\"/>\r\n      <use x=\"469.388672\" xlink:href=\"#DejaVuSans-32\"/>\r\n      <use x=\"501.175781\" xlink:href=\"#DejaVuSans-83\"/>\r\n      <use x=\"564.652344\" xlink:href=\"#DejaVuSans-116\"/>\r\n      <use x=\"603.861328\" xlink:href=\"#DejaVuSans-111\"/>\r\n      <use x=\"665.042969\" xlink:href=\"#DejaVuSans-99\"/>\r\n      <use x=\"720.023438\" xlink:href=\"#DejaVuSans-107\"/>\r\n      <use x=\"777.933594\" xlink:href=\"#DejaVuSans-32\"/>\r\n      <use x=\"809.720703\" xlink:href=\"#DejaVuSans-80\"/>\r\n      <use x=\"868.273438\" xlink:href=\"#DejaVuSans-114\"/>\r\n      <use x=\"909.386719\" xlink:href=\"#DejaVuSans-105\"/>\r\n      <use x=\"937.169922\" xlink:href=\"#DejaVuSans-99\"/>\r\n      <use x=\"992.150391\" xlink:href=\"#DejaVuSans-101\"/>\r\n     </g>\r\n    </g>\r\n   </g>\r\n  </g>\r\n </g>\r\n <defs>\r\n  <clipPath id=\"p21e068f37d\">\r\n   <rect height=\"195.84\" width=\"334.8\" x=\"47.284646\" y=\"22.318125\"/>\r\n  </clipPath>\r\n </defs>\r\n</svg>\r\n",
      "text/plain": [
       "<Figure size 432x288 with 1 Axes>"
      ]
     },
     "metadata": {
      "needs_background": "light"
     }
    }
   ],
   "metadata": {}
  },
  {
   "cell_type": "code",
   "execution_count": 36,
   "source": [
    "from sklearn.metrics import mean_absolute_error\n",
    "mean_absolute_error(acc_val,predicted_stock_price)"
   ],
   "outputs": [
    {
     "output_type": "execute_result",
     "data": {
      "text/plain": [
       "6.251328942435128"
      ]
     },
     "metadata": {},
     "execution_count": 36
    }
   ],
   "metadata": {}
  },
  {
   "cell_type": "code",
   "execution_count": null,
   "source": [],
   "outputs": [],
   "metadata": {}
  }
 ],
 "metadata": {
  "interpreter": {
   "hash": "039bf97fdee42cc648b84536c6ad81c414950e591f906d6f3b157445d2329ff7"
  },
  "kernelspec": {
   "name": "python3",
   "display_name": "Python 3.6.13 64-bit ('ML_GPU': conda)"
  },
  "language_info": {
   "codemirror_mode": {
    "name": "ipython",
    "version": 3
   },
   "file_extension": ".py",
   "mimetype": "text/x-python",
   "name": "python",
   "nbconvert_exporter": "python",
   "pygments_lexer": "ipython3",
   "version": "3.6.13"
  },
  "orig_nbformat": 4
 },
 "nbformat": 4,
 "nbformat_minor": 2
}